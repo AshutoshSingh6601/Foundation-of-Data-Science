{
  "nbformat": 4,
  "nbformat_minor": 0,
  "metadata": {
    "colab": {
      "name": "12_Loading data from files_ch6.ipynb",
      "provenance": [],
      "collapsed_sections": []
    },
    "kernelspec": {
      "name": "python3",
      "display_name": "Python 3"
    },
    "language_info": {
      "name": "python"
    }
  },
  "cells": [
    {
      "cell_type": "code",
      "metadata": {
        "id": "8cNhm5vth7rC"
      },
      "source": [
        "import numpy as np\n",
        "import pandas as pd"
      ],
      "execution_count": 1,
      "outputs": []
    },
    {
      "cell_type": "code",
      "metadata": {
        "colab": {
          "base_uri": "https://localhost:8080/",
          "height": 142
        },
        "id": "vrgILOsViuj4",
        "outputId": "78314095-f095-4748-f59f-66b511cceec1"
      },
      "source": [
        "df = pd.read_csv('/content/sample_data/ex1.csv')\n",
        "df"
      ],
      "execution_count": null,
      "outputs": [
        {
          "output_type": "execute_result",
          "data": {
            "text/html": [
              "<div>\n",
              "<style scoped>\n",
              "    .dataframe tbody tr th:only-of-type {\n",
              "        vertical-align: middle;\n",
              "    }\n",
              "\n",
              "    .dataframe tbody tr th {\n",
              "        vertical-align: top;\n",
              "    }\n",
              "\n",
              "    .dataframe thead th {\n",
              "        text-align: right;\n",
              "    }\n",
              "</style>\n",
              "<table border=\"1\" class=\"dataframe\">\n",
              "  <thead>\n",
              "    <tr style=\"text-align: right;\">\n",
              "      <th></th>\n",
              "      <th>a</th>\n",
              "      <th>b</th>\n",
              "      <th>c</th>\n",
              "      <th>d</th>\n",
              "      <th>message</th>\n",
              "    </tr>\n",
              "  </thead>\n",
              "  <tbody>\n",
              "    <tr>\n",
              "      <th>0</th>\n",
              "      <td>1</td>\n",
              "      <td>2</td>\n",
              "      <td>3</td>\n",
              "      <td>4</td>\n",
              "      <td>hello</td>\n",
              "    </tr>\n",
              "    <tr>\n",
              "      <th>1</th>\n",
              "      <td>5</td>\n",
              "      <td>6</td>\n",
              "      <td>7</td>\n",
              "      <td>8</td>\n",
              "      <td>world</td>\n",
              "    </tr>\n",
              "    <tr>\n",
              "      <th>2</th>\n",
              "      <td>9</td>\n",
              "      <td>10</td>\n",
              "      <td>11</td>\n",
              "      <td>12</td>\n",
              "      <td>foo</td>\n",
              "    </tr>\n",
              "  </tbody>\n",
              "</table>\n",
              "</div>"
            ],
            "text/plain": [
              "   a   b   c   d message\n",
              "0  1   2   3   4   hello\n",
              "1  5   6   7   8   world\n",
              "2  9  10  11  12     foo"
            ]
          },
          "metadata": {},
          "execution_count": 2
        }
      ]
    },
    {
      "cell_type": "code",
      "metadata": {
        "colab": {
          "base_uri": "https://localhost:8080/",
          "height": 142
        },
        "id": "zGt1_cFhjOi8",
        "outputId": "3c77f548-b374-45e9-dbd0-483634066325"
      },
      "source": [
        "df1=pd.read_table('/content/sample_data/ex1.csv', sep=',')\n",
        "df1"
      ],
      "execution_count": null,
      "outputs": [
        {
          "output_type": "execute_result",
          "data": {
            "text/html": [
              "<div>\n",
              "<style scoped>\n",
              "    .dataframe tbody tr th:only-of-type {\n",
              "        vertical-align: middle;\n",
              "    }\n",
              "\n",
              "    .dataframe tbody tr th {\n",
              "        vertical-align: top;\n",
              "    }\n",
              "\n",
              "    .dataframe thead th {\n",
              "        text-align: right;\n",
              "    }\n",
              "</style>\n",
              "<table border=\"1\" class=\"dataframe\">\n",
              "  <thead>\n",
              "    <tr style=\"text-align: right;\">\n",
              "      <th></th>\n",
              "      <th>a</th>\n",
              "      <th>b</th>\n",
              "      <th>c</th>\n",
              "      <th>d</th>\n",
              "      <th>message</th>\n",
              "    </tr>\n",
              "  </thead>\n",
              "  <tbody>\n",
              "    <tr>\n",
              "      <th>0</th>\n",
              "      <td>1</td>\n",
              "      <td>2</td>\n",
              "      <td>3</td>\n",
              "      <td>4</td>\n",
              "      <td>hello</td>\n",
              "    </tr>\n",
              "    <tr>\n",
              "      <th>1</th>\n",
              "      <td>5</td>\n",
              "      <td>6</td>\n",
              "      <td>7</td>\n",
              "      <td>8</td>\n",
              "      <td>world</td>\n",
              "    </tr>\n",
              "    <tr>\n",
              "      <th>2</th>\n",
              "      <td>9</td>\n",
              "      <td>10</td>\n",
              "      <td>11</td>\n",
              "      <td>12</td>\n",
              "      <td>foo</td>\n",
              "    </tr>\n",
              "  </tbody>\n",
              "</table>\n",
              "</div>"
            ],
            "text/plain": [
              "   a   b   c   d message\n",
              "0  1   2   3   4   hello\n",
              "1  5   6   7   8   world\n",
              "2  9  10  11  12     foo"
            ]
          },
          "metadata": {},
          "execution_count": 3
        }
      ]
    },
    {
      "cell_type": "code",
      "metadata": {
        "colab": {
          "base_uri": "https://localhost:8080/",
          "height": 142
        },
        "id": "OY5J-lXlkTAL",
        "outputId": "8feb5e0b-fa04-4427-ebd8-7ae065709943"
      },
      "source": [
        "df2=pd.read_csv('/content/sample_data/ex2.csv', header=None, names=['a', 'b', 'c', 'd', 'message'])\n",
        "df2"
      ],
      "execution_count": null,
      "outputs": [
        {
          "output_type": "execute_result",
          "data": {
            "text/html": [
              "<div>\n",
              "<style scoped>\n",
              "    .dataframe tbody tr th:only-of-type {\n",
              "        vertical-align: middle;\n",
              "    }\n",
              "\n",
              "    .dataframe tbody tr th {\n",
              "        vertical-align: top;\n",
              "    }\n",
              "\n",
              "    .dataframe thead th {\n",
              "        text-align: right;\n",
              "    }\n",
              "</style>\n",
              "<table border=\"1\" class=\"dataframe\">\n",
              "  <thead>\n",
              "    <tr style=\"text-align: right;\">\n",
              "      <th></th>\n",
              "      <th>a</th>\n",
              "      <th>b</th>\n",
              "      <th>c</th>\n",
              "      <th>d</th>\n",
              "      <th>message</th>\n",
              "    </tr>\n",
              "  </thead>\n",
              "  <tbody>\n",
              "    <tr>\n",
              "      <th>0</th>\n",
              "      <td>1</td>\n",
              "      <td>2</td>\n",
              "      <td>3</td>\n",
              "      <td>4</td>\n",
              "      <td>hello</td>\n",
              "    </tr>\n",
              "    <tr>\n",
              "      <th>1</th>\n",
              "      <td>5</td>\n",
              "      <td>6</td>\n",
              "      <td>7</td>\n",
              "      <td>8</td>\n",
              "      <td>world</td>\n",
              "    </tr>\n",
              "    <tr>\n",
              "      <th>2</th>\n",
              "      <td>9</td>\n",
              "      <td>10</td>\n",
              "      <td>11</td>\n",
              "      <td>12</td>\n",
              "      <td>foo</td>\n",
              "    </tr>\n",
              "  </tbody>\n",
              "</table>\n",
              "</div>"
            ],
            "text/plain": [
              "   a   b   c   d message\n",
              "0  1   2   3   4   hello\n",
              "1  5   6   7   8   world\n",
              "2  9  10  11  12     foo"
            ]
          },
          "metadata": {},
          "execution_count": 5
        }
      ]
    },
    {
      "cell_type": "code",
      "metadata": {
        "colab": {
          "base_uri": "https://localhost:8080/",
          "height": 328
        },
        "id": "YCQIfGa8nCqA",
        "outputId": "5e040233-b4a5-49f2-b7c9-9f3340df6eec"
      },
      "source": [
        "df3 = pd.read_csv('/content/sample_data/mindex.csv',\n",
        "                     index_col=['key1', 'key2'])\n",
        "df3"
      ],
      "execution_count": null,
      "outputs": [
        {
          "output_type": "execute_result",
          "data": {
            "text/html": [
              "<div>\n",
              "<style scoped>\n",
              "    .dataframe tbody tr th:only-of-type {\n",
              "        vertical-align: middle;\n",
              "    }\n",
              "\n",
              "    .dataframe tbody tr th {\n",
              "        vertical-align: top;\n",
              "    }\n",
              "\n",
              "    .dataframe thead th {\n",
              "        text-align: right;\n",
              "    }\n",
              "</style>\n",
              "<table border=\"1\" class=\"dataframe\">\n",
              "  <thead>\n",
              "    <tr style=\"text-align: right;\">\n",
              "      <th></th>\n",
              "      <th></th>\n",
              "      <th>value1</th>\n",
              "      <th>value2</th>\n",
              "    </tr>\n",
              "    <tr>\n",
              "      <th>key1</th>\n",
              "      <th>key2</th>\n",
              "      <th></th>\n",
              "      <th></th>\n",
              "    </tr>\n",
              "  </thead>\n",
              "  <tbody>\n",
              "    <tr>\n",
              "      <th rowspan=\"4\" valign=\"top\">one</th>\n",
              "      <th>a</th>\n",
              "      <td>1</td>\n",
              "      <td>2</td>\n",
              "    </tr>\n",
              "    <tr>\n",
              "      <th>b</th>\n",
              "      <td>3</td>\n",
              "      <td>4</td>\n",
              "    </tr>\n",
              "    <tr>\n",
              "      <th>c</th>\n",
              "      <td>5</td>\n",
              "      <td>6</td>\n",
              "    </tr>\n",
              "    <tr>\n",
              "      <th>d</th>\n",
              "      <td>7</td>\n",
              "      <td>8</td>\n",
              "    </tr>\n",
              "    <tr>\n",
              "      <th rowspan=\"4\" valign=\"top\">two</th>\n",
              "      <th>a</th>\n",
              "      <td>9</td>\n",
              "      <td>10</td>\n",
              "    </tr>\n",
              "    <tr>\n",
              "      <th>b</th>\n",
              "      <td>11</td>\n",
              "      <td>12</td>\n",
              "    </tr>\n",
              "    <tr>\n",
              "      <th>c</th>\n",
              "      <td>13</td>\n",
              "      <td>14</td>\n",
              "    </tr>\n",
              "    <tr>\n",
              "      <th>d</th>\n",
              "      <td>15</td>\n",
              "      <td>16</td>\n",
              "    </tr>\n",
              "  </tbody>\n",
              "</table>\n",
              "</div>"
            ],
            "text/plain": [
              "           value1  value2\n",
              "key1 key2                \n",
              "one  a          1       2\n",
              "     b          3       4\n",
              "     c          5       6\n",
              "     d          7       8\n",
              "two  a          9      10\n",
              "     b         11      12\n",
              "     c         13      14\n",
              "     d         15      16"
            ]
          },
          "metadata": {},
          "execution_count": 6
        }
      ]
    },
    {
      "cell_type": "code",
      "metadata": {
        "colab": {
          "base_uri": "https://localhost:8080/"
        },
        "id": "0Kj5P4axoeLy",
        "outputId": "da273c5d-3f27-457d-cf0f-3222bfee2592"
      },
      "source": [
        "list(open('/content/sample_data/ex3.txt'))"
      ],
      "execution_count": null,
      "outputs": [
        {
          "output_type": "execute_result",
          "data": {
            "text/plain": [
              "['            A         B         C\\n',\n",
              " 'aaa -0.264438 -1.026059 -0.619500\\n',\n",
              " 'bbb  0.927272  0.302904 -0.032399\\n',\n",
              " 'ccc -0.264273 -0.386314 -0.217601\\n',\n",
              " 'ddd -0.871858 -0.348382  1.100491']"
            ]
          },
          "metadata": {},
          "execution_count": 7
        }
      ]
    },
    {
      "cell_type": "code",
      "metadata": {
        "colab": {
          "base_uri": "https://localhost:8080/",
          "height": 173
        },
        "id": "-GExttpDo7Nn",
        "outputId": "40d407c9-51ec-4c7a-f94e-b0368ffdf144"
      },
      "source": [
        "result = pd.read_table('/content/sample_data/ex3.txt', sep='\\s+')\n",
        "result"
      ],
      "execution_count": null,
      "outputs": [
        {
          "output_type": "execute_result",
          "data": {
            "text/html": [
              "<div>\n",
              "<style scoped>\n",
              "    .dataframe tbody tr th:only-of-type {\n",
              "        vertical-align: middle;\n",
              "    }\n",
              "\n",
              "    .dataframe tbody tr th {\n",
              "        vertical-align: top;\n",
              "    }\n",
              "\n",
              "    .dataframe thead th {\n",
              "        text-align: right;\n",
              "    }\n",
              "</style>\n",
              "<table border=\"1\" class=\"dataframe\">\n",
              "  <thead>\n",
              "    <tr style=\"text-align: right;\">\n",
              "      <th></th>\n",
              "      <th>A</th>\n",
              "      <th>B</th>\n",
              "      <th>C</th>\n",
              "    </tr>\n",
              "  </thead>\n",
              "  <tbody>\n",
              "    <tr>\n",
              "      <th>aaa</th>\n",
              "      <td>-0.264438</td>\n",
              "      <td>-1.026059</td>\n",
              "      <td>-0.619500</td>\n",
              "    </tr>\n",
              "    <tr>\n",
              "      <th>bbb</th>\n",
              "      <td>0.927272</td>\n",
              "      <td>0.302904</td>\n",
              "      <td>-0.032399</td>\n",
              "    </tr>\n",
              "    <tr>\n",
              "      <th>ccc</th>\n",
              "      <td>-0.264273</td>\n",
              "      <td>-0.386314</td>\n",
              "      <td>-0.217601</td>\n",
              "    </tr>\n",
              "    <tr>\n",
              "      <th>ddd</th>\n",
              "      <td>-0.871858</td>\n",
              "      <td>-0.348382</td>\n",
              "      <td>1.100491</td>\n",
              "    </tr>\n",
              "  </tbody>\n",
              "</table>\n",
              "</div>"
            ],
            "text/plain": [
              "            A         B         C\n",
              "aaa -0.264438 -1.026059 -0.619500\n",
              "bbb  0.927272  0.302904 -0.032399\n",
              "ccc -0.264273 -0.386314 -0.217601\n",
              "ddd -0.871858 -0.348382  1.100491"
            ]
          },
          "metadata": {},
          "execution_count": 8
        }
      ]
    },
    {
      "cell_type": "code",
      "metadata": {
        "colab": {
          "base_uri": "https://localhost:8080/",
          "height": 142
        },
        "id": "SYsJqS5spDAS",
        "outputId": "6551b67d-e379-46bb-e412-188f47b7cff3"
      },
      "source": [
        "df4=pd.read_csv('/content/sample_data/ex4.csv', skiprows=[0, 2, 3])\n",
        "df4"
      ],
      "execution_count": null,
      "outputs": [
        {
          "output_type": "execute_result",
          "data": {
            "text/html": [
              "<div>\n",
              "<style scoped>\n",
              "    .dataframe tbody tr th:only-of-type {\n",
              "        vertical-align: middle;\n",
              "    }\n",
              "\n",
              "    .dataframe tbody tr th {\n",
              "        vertical-align: top;\n",
              "    }\n",
              "\n",
              "    .dataframe thead th {\n",
              "        text-align: right;\n",
              "    }\n",
              "</style>\n",
              "<table border=\"1\" class=\"dataframe\">\n",
              "  <thead>\n",
              "    <tr style=\"text-align: right;\">\n",
              "      <th></th>\n",
              "      <th>a</th>\n",
              "      <th>b</th>\n",
              "      <th>c</th>\n",
              "      <th>d</th>\n",
              "      <th>message</th>\n",
              "    </tr>\n",
              "  </thead>\n",
              "  <tbody>\n",
              "    <tr>\n",
              "      <th>0</th>\n",
              "      <td>1</td>\n",
              "      <td>2</td>\n",
              "      <td>3</td>\n",
              "      <td>4</td>\n",
              "      <td>hello</td>\n",
              "    </tr>\n",
              "    <tr>\n",
              "      <th>1</th>\n",
              "      <td>5</td>\n",
              "      <td>6</td>\n",
              "      <td>7</td>\n",
              "      <td>8</td>\n",
              "      <td>world</td>\n",
              "    </tr>\n",
              "    <tr>\n",
              "      <th>2</th>\n",
              "      <td>9</td>\n",
              "      <td>10</td>\n",
              "      <td>11</td>\n",
              "      <td>12</td>\n",
              "      <td>foo</td>\n",
              "    </tr>\n",
              "  </tbody>\n",
              "</table>\n",
              "</div>"
            ],
            "text/plain": [
              "   a   b   c   d message\n",
              "0  1   2   3   4   hello\n",
              "1  5   6   7   8   world\n",
              "2  9  10  11  12     foo"
            ]
          },
          "metadata": {},
          "execution_count": 9
        }
      ]
    },
    {
      "cell_type": "code",
      "metadata": {
        "colab": {
          "base_uri": "https://localhost:8080/",
          "height": 142
        },
        "id": "ogUUD2tLrNN5",
        "outputId": "33830d10-f9fa-45f0-f015-6af9f90b24be"
      },
      "source": [
        "df5 = pd.read_csv('/content/sample_data/ex5.csv')\n",
        "df4\n"
      ],
      "execution_count": null,
      "outputs": [
        {
          "output_type": "execute_result",
          "data": {
            "text/html": [
              "<div>\n",
              "<style scoped>\n",
              "    .dataframe tbody tr th:only-of-type {\n",
              "        vertical-align: middle;\n",
              "    }\n",
              "\n",
              "    .dataframe tbody tr th {\n",
              "        vertical-align: top;\n",
              "    }\n",
              "\n",
              "    .dataframe thead th {\n",
              "        text-align: right;\n",
              "    }\n",
              "</style>\n",
              "<table border=\"1\" class=\"dataframe\">\n",
              "  <thead>\n",
              "    <tr style=\"text-align: right;\">\n",
              "      <th></th>\n",
              "      <th>a</th>\n",
              "      <th>b</th>\n",
              "      <th>c</th>\n",
              "      <th>d</th>\n",
              "      <th>message</th>\n",
              "    </tr>\n",
              "  </thead>\n",
              "  <tbody>\n",
              "    <tr>\n",
              "      <th>0</th>\n",
              "      <td>1</td>\n",
              "      <td>2</td>\n",
              "      <td>3</td>\n",
              "      <td>4</td>\n",
              "      <td>hello</td>\n",
              "    </tr>\n",
              "    <tr>\n",
              "      <th>1</th>\n",
              "      <td>5</td>\n",
              "      <td>6</td>\n",
              "      <td>7</td>\n",
              "      <td>8</td>\n",
              "      <td>world</td>\n",
              "    </tr>\n",
              "    <tr>\n",
              "      <th>2</th>\n",
              "      <td>9</td>\n",
              "      <td>10</td>\n",
              "      <td>11</td>\n",
              "      <td>12</td>\n",
              "      <td>foo</td>\n",
              "    </tr>\n",
              "  </tbody>\n",
              "</table>\n",
              "</div>"
            ],
            "text/plain": [
              "   a   b   c   d message\n",
              "0  1   2   3   4   hello\n",
              "1  5   6   7   8   world\n",
              "2  9  10  11  12     foo"
            ]
          },
          "metadata": {},
          "execution_count": 11
        }
      ]
    },
    {
      "cell_type": "code",
      "metadata": {
        "colab": {
          "base_uri": "https://localhost:8080/",
          "height": 142
        },
        "id": "df4Ppcy4r0dR",
        "outputId": "600c11c3-9caa-4c7b-bb7c-336d91a2fe5f"
      },
      "source": [
        "pd.isnull(df5)"
      ],
      "execution_count": null,
      "outputs": [
        {
          "output_type": "execute_result",
          "data": {
            "text/html": [
              "<div>\n",
              "<style scoped>\n",
              "    .dataframe tbody tr th:only-of-type {\n",
              "        vertical-align: middle;\n",
              "    }\n",
              "\n",
              "    .dataframe tbody tr th {\n",
              "        vertical-align: top;\n",
              "    }\n",
              "\n",
              "    .dataframe thead th {\n",
              "        text-align: right;\n",
              "    }\n",
              "</style>\n",
              "<table border=\"1\" class=\"dataframe\">\n",
              "  <thead>\n",
              "    <tr style=\"text-align: right;\">\n",
              "      <th></th>\n",
              "      <th>something</th>\n",
              "      <th>a</th>\n",
              "      <th>b</th>\n",
              "      <th>c</th>\n",
              "      <th>d</th>\n",
              "      <th>message</th>\n",
              "    </tr>\n",
              "  </thead>\n",
              "  <tbody>\n",
              "    <tr>\n",
              "      <th>0</th>\n",
              "      <td>False</td>\n",
              "      <td>False</td>\n",
              "      <td>False</td>\n",
              "      <td>False</td>\n",
              "      <td>False</td>\n",
              "      <td>True</td>\n",
              "    </tr>\n",
              "    <tr>\n",
              "      <th>1</th>\n",
              "      <td>False</td>\n",
              "      <td>False</td>\n",
              "      <td>False</td>\n",
              "      <td>True</td>\n",
              "      <td>False</td>\n",
              "      <td>False</td>\n",
              "    </tr>\n",
              "    <tr>\n",
              "      <th>2</th>\n",
              "      <td>False</td>\n",
              "      <td>False</td>\n",
              "      <td>False</td>\n",
              "      <td>False</td>\n",
              "      <td>False</td>\n",
              "      <td>False</td>\n",
              "    </tr>\n",
              "  </tbody>\n",
              "</table>\n",
              "</div>"
            ],
            "text/plain": [
              "   something      a      b      c      d  message\n",
              "0      False  False  False  False  False     True\n",
              "1      False  False  False   True  False    False\n",
              "2      False  False  False  False  False    False"
            ]
          },
          "metadata": {},
          "execution_count": 12
        }
      ]
    },
    {
      "cell_type": "code",
      "metadata": {
        "colab": {
          "base_uri": "https://localhost:8080/",
          "height": 143
        },
        "id": "YdBNmHK2suru",
        "outputId": "35cd0392-4706-4de5-fd83-9b6878652585"
      },
      "source": [
        "pd.read_csv('/content/sample_data/ex5.csv', na_values=['NULL'])"
      ],
      "execution_count": 3,
      "outputs": [
        {
          "output_type": "execute_result",
          "data": {
            "text/html": [
              "<div>\n",
              "<style scoped>\n",
              "    .dataframe tbody tr th:only-of-type {\n",
              "        vertical-align: middle;\n",
              "    }\n",
              "\n",
              "    .dataframe tbody tr th {\n",
              "        vertical-align: top;\n",
              "    }\n",
              "\n",
              "    .dataframe thead th {\n",
              "        text-align: right;\n",
              "    }\n",
              "</style>\n",
              "<table border=\"1\" class=\"dataframe\">\n",
              "  <thead>\n",
              "    <tr style=\"text-align: right;\">\n",
              "      <th></th>\n",
              "      <th>something</th>\n",
              "      <th>a</th>\n",
              "      <th>b</th>\n",
              "      <th>c</th>\n",
              "      <th>d</th>\n",
              "      <th>message</th>\n",
              "    </tr>\n",
              "  </thead>\n",
              "  <tbody>\n",
              "    <tr>\n",
              "      <th>0</th>\n",
              "      <td>one</td>\n",
              "      <td>1</td>\n",
              "      <td>2</td>\n",
              "      <td>3.0</td>\n",
              "      <td>4</td>\n",
              "      <td>NaN</td>\n",
              "    </tr>\n",
              "    <tr>\n",
              "      <th>1</th>\n",
              "      <td>two</td>\n",
              "      <td>5</td>\n",
              "      <td>6</td>\n",
              "      <td>NaN</td>\n",
              "      <td>8</td>\n",
              "      <td>world</td>\n",
              "    </tr>\n",
              "    <tr>\n",
              "      <th>2</th>\n",
              "      <td>three</td>\n",
              "      <td>9</td>\n",
              "      <td>10</td>\n",
              "      <td>11.0</td>\n",
              "      <td>12</td>\n",
              "      <td>foo</td>\n",
              "    </tr>\n",
              "  </tbody>\n",
              "</table>\n",
              "</div>"
            ],
            "text/plain": [
              "  something  a   b     c   d message\n",
              "0       one  1   2   3.0   4     NaN\n",
              "1       two  5   6   NaN   8   world\n",
              "2     three  9  10  11.0  12     foo"
            ]
          },
          "metadata": {},
          "execution_count": 3
        }
      ]
    },
    {
      "cell_type": "code",
      "metadata": {
        "colab": {
          "base_uri": "https://localhost:8080/",
          "height": 143
        },
        "id": "BxUb7K9asz4g",
        "outputId": "e35b6f0c-b04e-4614-8813-8a625005effa"
      },
      "source": [
        "sentinels = {'a': ['5'], 'b':['2'], 'something': ['three']}\n",
        "pd.read_csv('/content/sample_data/ex5.csv', na_values=sentinels)"
      ],
      "execution_count": 4,
      "outputs": [
        {
          "output_type": "execute_result",
          "data": {
            "text/html": [
              "<div>\n",
              "<style scoped>\n",
              "    .dataframe tbody tr th:only-of-type {\n",
              "        vertical-align: middle;\n",
              "    }\n",
              "\n",
              "    .dataframe tbody tr th {\n",
              "        vertical-align: top;\n",
              "    }\n",
              "\n",
              "    .dataframe thead th {\n",
              "        text-align: right;\n",
              "    }\n",
              "</style>\n",
              "<table border=\"1\" class=\"dataframe\">\n",
              "  <thead>\n",
              "    <tr style=\"text-align: right;\">\n",
              "      <th></th>\n",
              "      <th>something</th>\n",
              "      <th>a</th>\n",
              "      <th>b</th>\n",
              "      <th>c</th>\n",
              "      <th>d</th>\n",
              "      <th>message</th>\n",
              "    </tr>\n",
              "  </thead>\n",
              "  <tbody>\n",
              "    <tr>\n",
              "      <th>0</th>\n",
              "      <td>one</td>\n",
              "      <td>1.0</td>\n",
              "      <td>NaN</td>\n",
              "      <td>3.0</td>\n",
              "      <td>4</td>\n",
              "      <td>NaN</td>\n",
              "    </tr>\n",
              "    <tr>\n",
              "      <th>1</th>\n",
              "      <td>two</td>\n",
              "      <td>NaN</td>\n",
              "      <td>6.0</td>\n",
              "      <td>NaN</td>\n",
              "      <td>8</td>\n",
              "      <td>world</td>\n",
              "    </tr>\n",
              "    <tr>\n",
              "      <th>2</th>\n",
              "      <td>NaN</td>\n",
              "      <td>9.0</td>\n",
              "      <td>10.0</td>\n",
              "      <td>11.0</td>\n",
              "      <td>12</td>\n",
              "      <td>foo</td>\n",
              "    </tr>\n",
              "  </tbody>\n",
              "</table>\n",
              "</div>"
            ],
            "text/plain": [
              "  something    a     b     c   d message\n",
              "0       one  1.0   NaN   3.0   4     NaN\n",
              "1       two  NaN   6.0   NaN   8   world\n",
              "2       NaN  9.0  10.0  11.0  12     foo"
            ]
          },
          "metadata": {},
          "execution_count": 4
        }
      ]
    },
    {
      "cell_type": "markdown",
      "metadata": {
        "id": "FVO0l3UaFR2f"
      },
      "source": [
        "**Reading Text Files in Pieces**"
      ]
    },
    {
      "cell_type": "code",
      "metadata": {
        "id": "6gUXbwNoFVMs"
      },
      "source": [
        "pd.options.display.max_rows = 10\n",
        "#showing 10 row, if we write None it will show all tha row "
      ],
      "execution_count": 14,
      "outputs": []
    },
    {
      "cell_type": "code",
      "metadata": {
        "colab": {
          "base_uri": "https://localhost:8080/",
          "height": 424
        },
        "id": "MsHTZbdDFeia",
        "outputId": "761df7eb-d379-4f4b-cee1-69bdf1c68378"
      },
      "source": [
        "pd6=pd.read_csv('/content/sample_data/ex6.csv')\n",
        "pd6"
      ],
      "execution_count": 15,
      "outputs": [
        {
          "output_type": "execute_result",
          "data": {
            "text/html": [
              "<div>\n",
              "<style scoped>\n",
              "    .dataframe tbody tr th:only-of-type {\n",
              "        vertical-align: middle;\n",
              "    }\n",
              "\n",
              "    .dataframe tbody tr th {\n",
              "        vertical-align: top;\n",
              "    }\n",
              "\n",
              "    .dataframe thead th {\n",
              "        text-align: right;\n",
              "    }\n",
              "</style>\n",
              "<table border=\"1\" class=\"dataframe\">\n",
              "  <thead>\n",
              "    <tr style=\"text-align: right;\">\n",
              "      <th></th>\n",
              "      <th>one</th>\n",
              "      <th>two</th>\n",
              "      <th>three</th>\n",
              "      <th>four</th>\n",
              "      <th>key</th>\n",
              "    </tr>\n",
              "  </thead>\n",
              "  <tbody>\n",
              "    <tr>\n",
              "      <th>0</th>\n",
              "      <td>0.467976</td>\n",
              "      <td>-0.038649</td>\n",
              "      <td>-0.295344</td>\n",
              "      <td>-1.824726</td>\n",
              "      <td>L</td>\n",
              "    </tr>\n",
              "    <tr>\n",
              "      <th>1</th>\n",
              "      <td>-0.358893</td>\n",
              "      <td>1.404453</td>\n",
              "      <td>0.704965</td>\n",
              "      <td>-0.200638</td>\n",
              "      <td>B</td>\n",
              "    </tr>\n",
              "    <tr>\n",
              "      <th>2</th>\n",
              "      <td>-0.501840</td>\n",
              "      <td>0.659254</td>\n",
              "      <td>-0.421691</td>\n",
              "      <td>-0.057688</td>\n",
              "      <td>G</td>\n",
              "    </tr>\n",
              "    <tr>\n",
              "      <th>3</th>\n",
              "      <td>0.204886</td>\n",
              "      <td>1.074134</td>\n",
              "      <td>1.388361</td>\n",
              "      <td>-0.982404</td>\n",
              "      <td>R</td>\n",
              "    </tr>\n",
              "    <tr>\n",
              "      <th>4</th>\n",
              "      <td>0.354628</td>\n",
              "      <td>-0.133116</td>\n",
              "      <td>0.283763</td>\n",
              "      <td>-0.837063</td>\n",
              "      <td>Q</td>\n",
              "    </tr>\n",
              "    <tr>\n",
              "      <th>...</th>\n",
              "      <td>...</td>\n",
              "      <td>...</td>\n",
              "      <td>...</td>\n",
              "      <td>...</td>\n",
              "      <td>...</td>\n",
              "    </tr>\n",
              "    <tr>\n",
              "      <th>9995</th>\n",
              "      <td>2.311896</td>\n",
              "      <td>-0.417070</td>\n",
              "      <td>-1.409599</td>\n",
              "      <td>-0.515821</td>\n",
              "      <td>L</td>\n",
              "    </tr>\n",
              "    <tr>\n",
              "      <th>9996</th>\n",
              "      <td>-0.479893</td>\n",
              "      <td>-0.650419</td>\n",
              "      <td>0.745152</td>\n",
              "      <td>-0.646038</td>\n",
              "      <td>E</td>\n",
              "    </tr>\n",
              "    <tr>\n",
              "      <th>9997</th>\n",
              "      <td>0.523331</td>\n",
              "      <td>0.787112</td>\n",
              "      <td>0.486066</td>\n",
              "      <td>1.093156</td>\n",
              "      <td>K</td>\n",
              "    </tr>\n",
              "    <tr>\n",
              "      <th>9998</th>\n",
              "      <td>-0.362559</td>\n",
              "      <td>0.598894</td>\n",
              "      <td>-1.843201</td>\n",
              "      <td>0.887292</td>\n",
              "      <td>G</td>\n",
              "    </tr>\n",
              "    <tr>\n",
              "      <th>9999</th>\n",
              "      <td>-0.096376</td>\n",
              "      <td>-1.012999</td>\n",
              "      <td>-0.657431</td>\n",
              "      <td>-0.573315</td>\n",
              "      <td>0</td>\n",
              "    </tr>\n",
              "  </tbody>\n",
              "</table>\n",
              "<p>10000 rows × 5 columns</p>\n",
              "</div>"
            ],
            "text/plain": [
              "           one       two     three      four key\n",
              "0     0.467976 -0.038649 -0.295344 -1.824726   L\n",
              "1    -0.358893  1.404453  0.704965 -0.200638   B\n",
              "2    -0.501840  0.659254 -0.421691 -0.057688   G\n",
              "3     0.204886  1.074134  1.388361 -0.982404   R\n",
              "4     0.354628 -0.133116  0.283763 -0.837063   Q\n",
              "...        ...       ...       ...       ...  ..\n",
              "9995  2.311896 -0.417070 -1.409599 -0.515821   L\n",
              "9996 -0.479893 -0.650419  0.745152 -0.646038   E\n",
              "9997  0.523331  0.787112  0.486066  1.093156   K\n",
              "9998 -0.362559  0.598894 -1.843201  0.887292   G\n",
              "9999 -0.096376 -1.012999 -0.657431 -0.573315   0\n",
              "\n",
              "[10000 rows x 5 columns]"
            ]
          },
          "metadata": {},
          "execution_count": 15
        }
      ]
    },
    {
      "cell_type": "code",
      "metadata": {
        "colab": {
          "base_uri": "https://localhost:8080/",
          "height": 206
        },
        "id": "HkKcHEddGvtz",
        "outputId": "54cc288a-8b47-4945-8de2-c50f2d726d0a"
      },
      "source": [
        "pd6=pd.read_csv('/content/sample_data/ex6.csv', nrows=5)  # nrows is same like a head\n",
        "pd6"
      ],
      "execution_count": 16,
      "outputs": [
        {
          "output_type": "execute_result",
          "data": {
            "text/html": [
              "<div>\n",
              "<style scoped>\n",
              "    .dataframe tbody tr th:only-of-type {\n",
              "        vertical-align: middle;\n",
              "    }\n",
              "\n",
              "    .dataframe tbody tr th {\n",
              "        vertical-align: top;\n",
              "    }\n",
              "\n",
              "    .dataframe thead th {\n",
              "        text-align: right;\n",
              "    }\n",
              "</style>\n",
              "<table border=\"1\" class=\"dataframe\">\n",
              "  <thead>\n",
              "    <tr style=\"text-align: right;\">\n",
              "      <th></th>\n",
              "      <th>one</th>\n",
              "      <th>two</th>\n",
              "      <th>three</th>\n",
              "      <th>four</th>\n",
              "      <th>key</th>\n",
              "    </tr>\n",
              "  </thead>\n",
              "  <tbody>\n",
              "    <tr>\n",
              "      <th>0</th>\n",
              "      <td>0.467976</td>\n",
              "      <td>-0.038649</td>\n",
              "      <td>-0.295344</td>\n",
              "      <td>-1.824726</td>\n",
              "      <td>L</td>\n",
              "    </tr>\n",
              "    <tr>\n",
              "      <th>1</th>\n",
              "      <td>-0.358893</td>\n",
              "      <td>1.404453</td>\n",
              "      <td>0.704965</td>\n",
              "      <td>-0.200638</td>\n",
              "      <td>B</td>\n",
              "    </tr>\n",
              "    <tr>\n",
              "      <th>2</th>\n",
              "      <td>-0.501840</td>\n",
              "      <td>0.659254</td>\n",
              "      <td>-0.421691</td>\n",
              "      <td>-0.057688</td>\n",
              "      <td>G</td>\n",
              "    </tr>\n",
              "    <tr>\n",
              "      <th>3</th>\n",
              "      <td>0.204886</td>\n",
              "      <td>1.074134</td>\n",
              "      <td>1.388361</td>\n",
              "      <td>-0.982404</td>\n",
              "      <td>R</td>\n",
              "    </tr>\n",
              "    <tr>\n",
              "      <th>4</th>\n",
              "      <td>0.354628</td>\n",
              "      <td>-0.133116</td>\n",
              "      <td>0.283763</td>\n",
              "      <td>-0.837063</td>\n",
              "      <td>Q</td>\n",
              "    </tr>\n",
              "  </tbody>\n",
              "</table>\n",
              "</div>"
            ],
            "text/plain": [
              "        one       two     three      four key\n",
              "0  0.467976 -0.038649 -0.295344 -1.824726   L\n",
              "1 -0.358893  1.404453  0.704965 -0.200638   B\n",
              "2 -0.501840  0.659254 -0.421691 -0.057688   G\n",
              "3  0.204886  1.074134  1.388361 -0.982404   R\n",
              "4  0.354628 -0.133116  0.283763 -0.837063   Q"
            ]
          },
          "metadata": {},
          "execution_count": 16
        }
      ]
    },
    {
      "cell_type": "code",
      "metadata": {
        "colab": {
          "base_uri": "https://localhost:8080/"
        },
        "id": "zuf7F5sIKnux",
        "outputId": "b0199451-1d74-49ef-ae36-61aace433293"
      },
      "source": [
        "# number of rows into DF in order to fit into the local memory we will use chunksize\n",
        "df6=pd.read_csv('/content/sample_data/ex6.csv', chunksize=1000)  \n",
        "df6"
      ],
      "execution_count": 17,
      "outputs": [
        {
          "output_type": "execute_result",
          "data": {
            "text/plain": [
              "<pandas.io.parsers.TextFileReader at 0x7f8c03d6d2d0>"
            ]
          },
          "metadata": {},
          "execution_count": 17
        }
      ]
    },
    {
      "cell_type": "code",
      "metadata": {
        "colab": {
          "base_uri": "https://localhost:8080/"
        },
        "id": "OL9RNssrLHLy",
        "outputId": "db5540df-424f-4e76-e030-6e75347c5503"
      },
      "source": [
        "df6=pd.read_csv('/content/sample_data/ex6.csv', chunksize=1000)\n",
        "tot = pd.Series([])   # We will take blank array\n",
        "for piece in df6:     \n",
        "    tot = tot.add(piece['key'].value_counts(), fill_value=0)\n",
        "\n",
        "tot = tot.sort_values(ascending=False)"
      ],
      "execution_count": 18,
      "outputs": [
        {
          "output_type": "stream",
          "name": "stderr",
          "text": [
            "/usr/local/lib/python3.7/dist-packages/ipykernel_launcher.py:2: DeprecationWarning: The default dtype for empty Series will be 'object' instead of 'float64' in a future version. Specify a dtype explicitly to silence this warning.\n",
            "  \n"
          ]
        }
      ]
    },
    {
      "cell_type": "code",
      "metadata": {
        "colab": {
          "base_uri": "https://localhost:8080/"
        },
        "id": "12jApF4yN2cm",
        "outputId": "b41745c0-9ff6-4784-9398-613f2118dbf2"
      },
      "source": [
        "tot[:10]"
      ],
      "execution_count": 19,
      "outputs": [
        {
          "output_type": "execute_result",
          "data": {
            "text/plain": [
              "E    368.0\n",
              "X    364.0\n",
              "L    346.0\n",
              "O    343.0\n",
              "Q    340.0\n",
              "M    338.0\n",
              "J    337.0\n",
              "F    335.0\n",
              "K    334.0\n",
              "H    330.0\n",
              "dtype: float64"
            ]
          },
          "metadata": {},
          "execution_count": 19
        }
      ]
    },
    {
      "cell_type": "markdown",
      "metadata": {
        "id": "Po__xZp4PDP0"
      },
      "source": [
        "**Writing Data to Text Format**"
      ]
    },
    {
      "cell_type": "code",
      "metadata": {
        "colab": {
          "base_uri": "https://localhost:8080/",
          "height": 143
        },
        "id": "CG1TzYSPON9W",
        "outputId": "d0ae1382-037b-4932-b895-8616a32e5d2f"
      },
      "source": [
        "data = pd.read_csv('/content/sample_data/ex5.csv')\n",
        "data"
      ],
      "execution_count": 20,
      "outputs": [
        {
          "output_type": "execute_result",
          "data": {
            "text/html": [
              "<div>\n",
              "<style scoped>\n",
              "    .dataframe tbody tr th:only-of-type {\n",
              "        vertical-align: middle;\n",
              "    }\n",
              "\n",
              "    .dataframe tbody tr th {\n",
              "        vertical-align: top;\n",
              "    }\n",
              "\n",
              "    .dataframe thead th {\n",
              "        text-align: right;\n",
              "    }\n",
              "</style>\n",
              "<table border=\"1\" class=\"dataframe\">\n",
              "  <thead>\n",
              "    <tr style=\"text-align: right;\">\n",
              "      <th></th>\n",
              "      <th>something</th>\n",
              "      <th>a</th>\n",
              "      <th>b</th>\n",
              "      <th>c</th>\n",
              "      <th>d</th>\n",
              "      <th>message</th>\n",
              "    </tr>\n",
              "  </thead>\n",
              "  <tbody>\n",
              "    <tr>\n",
              "      <th>0</th>\n",
              "      <td>one</td>\n",
              "      <td>1</td>\n",
              "      <td>2</td>\n",
              "      <td>3.0</td>\n",
              "      <td>4</td>\n",
              "      <td>NaN</td>\n",
              "    </tr>\n",
              "    <tr>\n",
              "      <th>1</th>\n",
              "      <td>two</td>\n",
              "      <td>5</td>\n",
              "      <td>6</td>\n",
              "      <td>NaN</td>\n",
              "      <td>8</td>\n",
              "      <td>world</td>\n",
              "    </tr>\n",
              "    <tr>\n",
              "      <th>2</th>\n",
              "      <td>three</td>\n",
              "      <td>9</td>\n",
              "      <td>10</td>\n",
              "      <td>11.0</td>\n",
              "      <td>12</td>\n",
              "      <td>foo</td>\n",
              "    </tr>\n",
              "  </tbody>\n",
              "</table>\n",
              "</div>"
            ],
            "text/plain": [
              "  something  a   b     c   d message\n",
              "0       one  1   2   3.0   4     NaN\n",
              "1       two  5   6   NaN   8   world\n",
              "2     three  9  10  11.0  12     foo"
            ]
          },
          "metadata": {},
          "execution_count": 20
        }
      ]
    },
    {
      "cell_type": "code",
      "metadata": {
        "colab": {
          "base_uri": "https://localhost:8080/"
        },
        "id": "837ae7w9PRdd",
        "outputId": "fc2f528e-e8f8-4836-ae2c-94cd3c3bbe5f"
      },
      "source": [
        "data.to_csv('/content/sample_data/out.csv')\n",
        "!cat /content/sample_data/out.csv"
      ],
      "execution_count": 23,
      "outputs": [
        {
          "output_type": "stream",
          "name": "stdout",
          "text": [
            ",something,a,b,c,d,message\n",
            "0,one,1,2,3.0,4,\n",
            "1,two,5,6,,8,world\n",
            "2,three,9,10,11.0,12,foo\n"
          ]
        }
      ]
    },
    {
      "cell_type": "code",
      "metadata": {
        "colab": {
          "base_uri": "https://localhost:8080/"
        },
        "id": "mBjvHpHvPYVK",
        "outputId": "02f4e247-fd58-4d7e-cd22-4e93d2a7168f"
      },
      "source": [
        "import sys\n",
        "data.to_csv(sys.stdout, sep='|')"
      ],
      "execution_count": 24,
      "outputs": [
        {
          "output_type": "stream",
          "name": "stdout",
          "text": [
            "|something|a|b|c|d|message\n",
            "0|one|1|2|3.0|4|\n",
            "1|two|5|6||8|world\n",
            "2|three|9|10|11.0|12|foo\n"
          ]
        }
      ]
    },
    {
      "cell_type": "code",
      "metadata": {
        "colab": {
          "base_uri": "https://localhost:8080/"
        },
        "id": "0a4-qScyQNzo",
        "outputId": "090bf6ca-b6a8-473e-abb6-ade9b6bb4460"
      },
      "source": [
        "data.to_csv(sys.stdout, na_rep='NULL')    # na_rep:-Change the NaN value to NULL"
      ],
      "execution_count": 26,
      "outputs": [
        {
          "output_type": "stream",
          "name": "stdout",
          "text": [
            ",something,a,b,c,d,message\n",
            "0,one,1,2,3.0,4,NULL\n",
            "1,two,5,6,NULL,8,world\n",
            "2,three,9,10,11.0,12,foo\n"
          ]
        }
      ]
    },
    {
      "cell_type": "code",
      "metadata": {
        "colab": {
          "base_uri": "https://localhost:8080/"
        },
        "id": "ylzbq4saQcvP",
        "outputId": "d56b75d0-b835-45ae-a545-11f74dc0b013"
      },
      "source": [
        "# We cann't show the header or index\n",
        "data.to_csv(sys.stdout, index=False, header=False)"
      ],
      "execution_count": 27,
      "outputs": [
        {
          "output_type": "stream",
          "name": "stdout",
          "text": [
            "one,1,2,3.0,4,\n",
            "two,5,6,,8,world\n",
            "three,9,10,11.0,12,foo\n"
          ]
        }
      ]
    },
    {
      "cell_type": "code",
      "metadata": {
        "colab": {
          "base_uri": "https://localhost:8080/"
        },
        "id": "EZczxld2RLGJ",
        "outputId": "cc3be0a3-1a47-4a27-bac9-26896abb768f"
      },
      "source": [
        "#now the index is one, two, three this because it will not show that value and they show only three value i.e:- 1\n",
        "data.to_csv(sys.stdout, index=False, columns=['a', 'b', 'c']) # because here we have three columns"
      ],
      "execution_count": 28,
      "outputs": [
        {
          "output_type": "stream",
          "name": "stdout",
          "text": [
            "a,b,c\n",
            "1,2,3.0\n",
            "5,6,\n",
            "9,10,11.0\n"
          ]
        }
      ]
    },
    {
      "cell_type": "code",
      "metadata": {
        "colab": {
          "base_uri": "https://localhost:8080/"
        },
        "id": "9xd0s-2kRo9c",
        "outputId": "e38dd164-b5a3-4bb9-d786-af7bebf4166d"
      },
      "source": [
        "dates = pd.date_range('1/1/2000', periods=7)\n",
        "ts = pd.Series(np.arange(7), index=dates)\n",
        "ts.to_csv('/content/sample_data/tseries.csv')\n",
        "!cat /content/sample_data/tseries.csv"
      ],
      "execution_count": 34,
      "outputs": [
        {
          "output_type": "stream",
          "name": "stdout",
          "text": [
            ",0\n",
            "2000-01-01,0\n",
            "2000-01-02,1\n",
            "2000-01-03,2\n",
            "2000-01-04,3\n",
            "2000-01-05,4\n",
            "2000-01-06,5\n",
            "2000-01-07,6\n"
          ]
        }
      ]
    },
    {
      "cell_type": "markdown",
      "metadata": {
        "id": "q_zTkv9gUHRd"
      },
      "source": [
        "**Working with Delimited Formats**"
      ]
    },
    {
      "cell_type": "code",
      "metadata": {
        "colab": {
          "base_uri": "https://localhost:8080/"
        },
        "id": "PgtVdWBPTaCR",
        "outputId": "c0ef5cb2-4a10-4cef-a9df-954bc8e3cd57"
      },
      "source": [
        "!cat /content/sample_data/ex7.csv"
      ],
      "execution_count": 36,
      "outputs": [
        {
          "output_type": "stream",
          "name": "stdout",
          "text": [
            "\"a\",\"b\",\"c\"\r\n",
            "\"1\",\"2\",\"3\"\r\n",
            "\"1\",\"2\",\"3\""
          ]
        }
      ]
    },
    {
      "cell_type": "code",
      "metadata": {
        "id": "MOYhKCgqUPhx"
      },
      "source": [
        "import csv\n",
        "f = open('/content/sample_data/ex7.csv')\n",
        "\n",
        "reader = csv.reader(f)"
      ],
      "execution_count": 37,
      "outputs": []
    },
    {
      "cell_type": "code",
      "metadata": {
        "colab": {
          "base_uri": "https://localhost:8080/"
        },
        "id": "ozSolOGQUpFG",
        "outputId": "12006aab-b198-4c4b-a862-3f1aa55258ac"
      },
      "source": [
        "for line in reader:\n",
        "    print(line)"
      ],
      "execution_count": 38,
      "outputs": [
        {
          "output_type": "stream",
          "name": "stdout",
          "text": [
            "['a', 'b', 'c']\n",
            "['1', '2', '3']\n",
            "['1', '2', '3']\n"
          ]
        }
      ]
    },
    {
      "cell_type": "code",
      "metadata": {
        "id": "5FSRXnnHUuNE"
      },
      "source": [
        "with open('/content/sample_data/ex7.csv') as f:\n",
        "    lines = list(csv.reader(f))"
      ],
      "execution_count": 39,
      "outputs": []
    },
    {
      "cell_type": "code",
      "metadata": {
        "id": "AOQweh9uU3WC"
      },
      "source": [
        "header, values = lines[0], lines[1:]"
      ],
      "execution_count": 40,
      "outputs": []
    },
    {
      "cell_type": "code",
      "metadata": {
        "colab": {
          "base_uri": "https://localhost:8080/"
        },
        "id": "4LOOoVB5U7e0",
        "outputId": "da4cda3f-cc3f-49a6-faf3-f0c31530d869"
      },
      "source": [
        "data_dict = {h: v for h, v in zip(header, zip(*values))}\n",
        "data_dict"
      ],
      "execution_count": 41,
      "outputs": [
        {
          "output_type": "execute_result",
          "data": {
            "text/plain": [
              "{'a': ('1', '1'), 'b': ('2', '2'), 'c': ('3', '3')}"
            ]
          },
          "metadata": {},
          "execution_count": 41
        }
      ]
    },
    {
      "cell_type": "markdown",
      "metadata": {
        "id": "cCvS8ExcVGDF"
      },
      "source": [
        "**JSON Data**"
      ]
    },
    {
      "cell_type": "code",
      "metadata": {
        "id": "OmeBZgrCVEX2"
      },
      "source": [
        "obj = \"\"\"\n",
        "{\"name\": \"Wes\",\n",
        " \"places_lived\": [\"United States\", \"Spain\", \"Germany\"],\n",
        " \"pet\": null,\n",
        " \"siblings\": [{\"name\": \"Scott\", \"age\": 30, \"pets\": [\"Zeus\", \"Zuko\"]},\n",
        "              {\"name\": \"Katie\", \"age\": 38,\n",
        "               \"pets\": [\"Sixes\", \"Stache\", \"Cisco\"]}]\n",
        "}\n",
        "\"\"\""
      ],
      "execution_count": 42,
      "outputs": []
    },
    {
      "cell_type": "code",
      "metadata": {
        "colab": {
          "base_uri": "https://localhost:8080/"
        },
        "id": "pvoqgpYeV6fM",
        "outputId": "e92ae13e-777f-4b43-b5a0-5f4dfa098a56"
      },
      "source": [
        "import json\n",
        "result = json.loads(obj)\n",
        "result"
      ],
      "execution_count": 43,
      "outputs": [
        {
          "output_type": "execute_result",
          "data": {
            "text/plain": [
              "{'name': 'Wes',\n",
              " 'pet': None,\n",
              " 'places_lived': ['United States', 'Spain', 'Germany'],\n",
              " 'siblings': [{'age': 30, 'name': 'Scott', 'pets': ['Zeus', 'Zuko']},\n",
              "  {'age': 38, 'name': 'Katie', 'pets': ['Sixes', 'Stache', 'Cisco']}]}"
            ]
          },
          "metadata": {},
          "execution_count": 43
        }
      ]
    },
    {
      "cell_type": "code",
      "metadata": {
        "id": "2Mz0Nxp4V-ko"
      },
      "source": [
        "asjson = json.dumps(result)"
      ],
      "execution_count": 44,
      "outputs": []
    },
    {
      "cell_type": "code",
      "metadata": {
        "colab": {
          "base_uri": "https://localhost:8080/",
          "height": 112
        },
        "id": "OEN0WdwXWB5k",
        "outputId": "518e86c1-04bb-45fa-e7a8-911357d5674e"
      },
      "source": [
        "\n",
        "siblings = pd.DataFrame(result['siblings'], columns=['name', 'age'])\n",
        "siblings"
      ],
      "execution_count": 45,
      "outputs": [
        {
          "output_type": "execute_result",
          "data": {
            "text/html": [
              "<div>\n",
              "<style scoped>\n",
              "    .dataframe tbody tr th:only-of-type {\n",
              "        vertical-align: middle;\n",
              "    }\n",
              "\n",
              "    .dataframe tbody tr th {\n",
              "        vertical-align: top;\n",
              "    }\n",
              "\n",
              "    .dataframe thead th {\n",
              "        text-align: right;\n",
              "    }\n",
              "</style>\n",
              "<table border=\"1\" class=\"dataframe\">\n",
              "  <thead>\n",
              "    <tr style=\"text-align: right;\">\n",
              "      <th></th>\n",
              "      <th>name</th>\n",
              "      <th>age</th>\n",
              "    </tr>\n",
              "  </thead>\n",
              "  <tbody>\n",
              "    <tr>\n",
              "      <th>0</th>\n",
              "      <td>Scott</td>\n",
              "      <td>30</td>\n",
              "    </tr>\n",
              "    <tr>\n",
              "      <th>1</th>\n",
              "      <td>Katie</td>\n",
              "      <td>38</td>\n",
              "    </tr>\n",
              "  </tbody>\n",
              "</table>\n",
              "</div>"
            ],
            "text/plain": [
              "    name  age\n",
              "0  Scott   30\n",
              "1  Katie   38"
            ]
          },
          "metadata": {},
          "execution_count": 45
        }
      ]
    },
    {
      "cell_type": "code",
      "metadata": {
        "colab": {
          "base_uri": "https://localhost:8080/"
        },
        "id": "QDRxWnbsWEOh",
        "outputId": "79a83168-a633-4464-f96e-6b64d2cb58a6"
      },
      "source": [
        "!cat /content/sample_data/example.json"
      ],
      "execution_count": 47,
      "outputs": [
        {
          "output_type": "stream",
          "name": "stdout",
          "text": [
            "[{\"a\": 1, \"b\": 2, \"c\": 3},\r\n",
            " {\"a\": 4, \"b\": 5, \"c\": 6},\r\n",
            " {\"a\": 7, \"b\": 8, \"c\": 9}]"
          ]
        }
      ]
    },
    {
      "cell_type": "code",
      "metadata": {
        "colab": {
          "base_uri": "https://localhost:8080/",
          "height": 143
        },
        "id": "PLHlhjsgWHLX",
        "outputId": "06b4db31-c0dc-4b69-f6fd-47cfc0321cc1"
      },
      "source": [
        "data = pd.read_json('/content/sample_data/example.json')\n",
        "data"
      ],
      "execution_count": 48,
      "outputs": [
        {
          "output_type": "execute_result",
          "data": {
            "text/html": [
              "<div>\n",
              "<style scoped>\n",
              "    .dataframe tbody tr th:only-of-type {\n",
              "        vertical-align: middle;\n",
              "    }\n",
              "\n",
              "    .dataframe tbody tr th {\n",
              "        vertical-align: top;\n",
              "    }\n",
              "\n",
              "    .dataframe thead th {\n",
              "        text-align: right;\n",
              "    }\n",
              "</style>\n",
              "<table border=\"1\" class=\"dataframe\">\n",
              "  <thead>\n",
              "    <tr style=\"text-align: right;\">\n",
              "      <th></th>\n",
              "      <th>a</th>\n",
              "      <th>b</th>\n",
              "      <th>c</th>\n",
              "    </tr>\n",
              "  </thead>\n",
              "  <tbody>\n",
              "    <tr>\n",
              "      <th>0</th>\n",
              "      <td>1</td>\n",
              "      <td>2</td>\n",
              "      <td>3</td>\n",
              "    </tr>\n",
              "    <tr>\n",
              "      <th>1</th>\n",
              "      <td>4</td>\n",
              "      <td>5</td>\n",
              "      <td>6</td>\n",
              "    </tr>\n",
              "    <tr>\n",
              "      <th>2</th>\n",
              "      <td>7</td>\n",
              "      <td>8</td>\n",
              "      <td>9</td>\n",
              "    </tr>\n",
              "  </tbody>\n",
              "</table>\n",
              "</div>"
            ],
            "text/plain": [
              "   a  b  c\n",
              "0  1  2  3\n",
              "1  4  5  6\n",
              "2  7  8  9"
            ]
          },
          "metadata": {},
          "execution_count": 48
        }
      ]
    },
    {
      "cell_type": "code",
      "metadata": {
        "colab": {
          "base_uri": "https://localhost:8080/"
        },
        "id": "x37fsVO8Wnsy",
        "outputId": "87a61810-5b0f-4059-dd8b-9b4984f44b93"
      },
      "source": [
        "print(data.to_json())\n",
        "print(data.to_json(orient='records'))"
      ],
      "execution_count": 49,
      "outputs": [
        {
          "output_type": "stream",
          "name": "stdout",
          "text": [
            "{\"a\":{\"0\":1,\"1\":4,\"2\":7},\"b\":{\"0\":2,\"1\":5,\"2\":8},\"c\":{\"0\":3,\"1\":6,\"2\":9}}\n",
            "[{\"a\":1,\"b\":2,\"c\":3},{\"a\":4,\"b\":5,\"c\":6},{\"a\":7,\"b\":8,\"c\":9}]\n"
          ]
        }
      ]
    },
    {
      "cell_type": "markdown",
      "metadata": {
        "id": "GoxBXBO_Wux9"
      },
      "source": [
        "**XML and HTML: Web Scraping**"
      ]
    },
    {
      "cell_type": "code",
      "metadata": {
        "colab": {
          "base_uri": "https://localhost:8080/",
          "height": 276
        },
        "id": "OmaPhD79Wrkw",
        "outputId": "8782a7a7-be86-4e0b-884f-3c9b4aaf3094"
      },
      "source": [
        "tables = pd.read_html('/content/sample_data/fdic_failed_bank_list.html')\n",
        "len(tables)\n",
        "failures = tables[0]\n",
        "failures.head()"
      ],
      "execution_count": 51,
      "outputs": [
        {
          "output_type": "execute_result",
          "data": {
            "text/html": [
              "<div>\n",
              "<style scoped>\n",
              "    .dataframe tbody tr th:only-of-type {\n",
              "        vertical-align: middle;\n",
              "    }\n",
              "\n",
              "    .dataframe tbody tr th {\n",
              "        vertical-align: top;\n",
              "    }\n",
              "\n",
              "    .dataframe thead th {\n",
              "        text-align: right;\n",
              "    }\n",
              "</style>\n",
              "<table border=\"1\" class=\"dataframe\">\n",
              "  <thead>\n",
              "    <tr style=\"text-align: right;\">\n",
              "      <th></th>\n",
              "      <th>Bank Name</th>\n",
              "      <th>City</th>\n",
              "      <th>ST</th>\n",
              "      <th>CERT</th>\n",
              "      <th>Acquiring Institution</th>\n",
              "      <th>Closing Date</th>\n",
              "      <th>Updated Date</th>\n",
              "    </tr>\n",
              "  </thead>\n",
              "  <tbody>\n",
              "    <tr>\n",
              "      <th>0</th>\n",
              "      <td>Allied Bank</td>\n",
              "      <td>Mulberry</td>\n",
              "      <td>AR</td>\n",
              "      <td>91</td>\n",
              "      <td>Today's Bank</td>\n",
              "      <td>September 23, 2016</td>\n",
              "      <td>November 17, 2016</td>\n",
              "    </tr>\n",
              "    <tr>\n",
              "      <th>1</th>\n",
              "      <td>The Woodbury Banking Company</td>\n",
              "      <td>Woodbury</td>\n",
              "      <td>GA</td>\n",
              "      <td>11297</td>\n",
              "      <td>United Bank</td>\n",
              "      <td>August 19, 2016</td>\n",
              "      <td>November 17, 2016</td>\n",
              "    </tr>\n",
              "    <tr>\n",
              "      <th>2</th>\n",
              "      <td>First CornerStone Bank</td>\n",
              "      <td>King of Prussia</td>\n",
              "      <td>PA</td>\n",
              "      <td>35312</td>\n",
              "      <td>First-Citizens Bank &amp; Trust Company</td>\n",
              "      <td>May 6, 2016</td>\n",
              "      <td>September 6, 2016</td>\n",
              "    </tr>\n",
              "    <tr>\n",
              "      <th>3</th>\n",
              "      <td>Trust Company Bank</td>\n",
              "      <td>Memphis</td>\n",
              "      <td>TN</td>\n",
              "      <td>9956</td>\n",
              "      <td>The Bank of Fayette County</td>\n",
              "      <td>April 29, 2016</td>\n",
              "      <td>September 6, 2016</td>\n",
              "    </tr>\n",
              "    <tr>\n",
              "      <th>4</th>\n",
              "      <td>North Milwaukee State Bank</td>\n",
              "      <td>Milwaukee</td>\n",
              "      <td>WI</td>\n",
              "      <td>20364</td>\n",
              "      <td>First-Citizens Bank &amp; Trust Company</td>\n",
              "      <td>March 11, 2016</td>\n",
              "      <td>June 16, 2016</td>\n",
              "    </tr>\n",
              "  </tbody>\n",
              "</table>\n",
              "</div>"
            ],
            "text/plain": [
              "                      Bank Name  ...       Updated Date\n",
              "0                   Allied Bank  ...  November 17, 2016\n",
              "1  The Woodbury Banking Company  ...  November 17, 2016\n",
              "2        First CornerStone Bank  ...  September 6, 2016\n",
              "3            Trust Company Bank  ...  September 6, 2016\n",
              "4    North Milwaukee State Bank  ...      June 16, 2016\n",
              "\n",
              "[5 rows x 7 columns]"
            ]
          },
          "metadata": {},
          "execution_count": 51
        }
      ]
    },
    {
      "cell_type": "code",
      "metadata": {
        "colab": {
          "base_uri": "https://localhost:8080/"
        },
        "id": "b1C4bQZeXQHx",
        "outputId": "f59e7707-06a3-4cbb-f770-383332dc0469"
      },
      "source": [
        "close_timestamps = pd.to_datetime(failures['Closing Date'])\n",
        "close_timestamps.dt.year.value_counts()"
      ],
      "execution_count": 52,
      "outputs": [
        {
          "output_type": "execute_result",
          "data": {
            "text/plain": [
              "2010    157\n",
              "2009    140\n",
              "2011     92\n",
              "2012     51\n",
              "2008     25\n",
              "       ... \n",
              "2004      4\n",
              "2001      4\n",
              "2007      3\n",
              "2003      3\n",
              "2000      2\n",
              "Name: Closing Date, Length: 15, dtype: int64"
            ]
          },
          "metadata": {},
          "execution_count": 52
        }
      ]
    },
    {
      "cell_type": "markdown",
      "metadata": {
        "id": "oTOD6-3kXx81"
      },
      "source": [
        "**Parsing XML with lxml.objectify**"
      ]
    },
    {
      "cell_type": "code",
      "metadata": {
        "id": "SIWoqIuNXbdc"
      },
      "source": [
        "from lxml import objectify\n",
        "\n",
        "path = '/content/sample_data/Performance_MNR.xml'\n",
        "parsed = objectify.parse(open(path))\n",
        "root = parsed.getroot()"
      ],
      "execution_count": 54,
      "outputs": []
    },
    {
      "cell_type": "code",
      "metadata": {
        "id": "sxQ4nLlCZu4_"
      },
      "source": [
        "data = []\n",
        "\n",
        "skip_fields = ['PARENT_SEQ', 'INDICATOR_SEQ',\n",
        "               'DESIRED_CHANGE', 'DECIMAL_PLACES']\n",
        "\n",
        "for elt in root.INDICATOR:\n",
        "    el_data = {}\n",
        "    for child in elt.getchildren():\n",
        "        if child.tag in skip_fields:\n",
        "            continue\n",
        "        el_data[child.tag] = child.pyval\n",
        "    data.append(el_data)"
      ],
      "execution_count": 55,
      "outputs": []
    },
    {
      "cell_type": "code",
      "metadata": {
        "colab": {
          "base_uri": "https://localhost:8080/",
          "height": 573
        },
        "id": "Ln_cJfwfZ-8d",
        "outputId": "2fff6994-a8e5-4a2f-a4e3-8844cea53a4a"
      },
      "source": [
        "perf = pd.DataFrame(data)\n",
        "perf.head()"
      ],
      "execution_count": 56,
      "outputs": [
        {
          "output_type": "execute_result",
          "data": {
            "text/html": [
              "<div>\n",
              "<style scoped>\n",
              "    .dataframe tbody tr th:only-of-type {\n",
              "        vertical-align: middle;\n",
              "    }\n",
              "\n",
              "    .dataframe tbody tr th {\n",
              "        vertical-align: top;\n",
              "    }\n",
              "\n",
              "    .dataframe thead th {\n",
              "        text-align: right;\n",
              "    }\n",
              "</style>\n",
              "<table border=\"1\" class=\"dataframe\">\n",
              "  <thead>\n",
              "    <tr style=\"text-align: right;\">\n",
              "      <th></th>\n",
              "      <th>AGENCY_NAME</th>\n",
              "      <th>INDICATOR_NAME</th>\n",
              "      <th>DESCRIPTION</th>\n",
              "      <th>PERIOD_YEAR</th>\n",
              "      <th>PERIOD_MONTH</th>\n",
              "      <th>CATEGORY</th>\n",
              "      <th>FREQUENCY</th>\n",
              "      <th>INDICATOR_UNIT</th>\n",
              "      <th>YTD_TARGET</th>\n",
              "      <th>YTD_ACTUAL</th>\n",
              "      <th>MONTHLY_TARGET</th>\n",
              "      <th>MONTHLY_ACTUAL</th>\n",
              "    </tr>\n",
              "  </thead>\n",
              "  <tbody>\n",
              "    <tr>\n",
              "      <th>0</th>\n",
              "      <td>Metro-North Railroad</td>\n",
              "      <td>On-Time Performance (West of Hudson)</td>\n",
              "      <td>Percent of commuter trains that arrive at thei...</td>\n",
              "      <td>2008</td>\n",
              "      <td>1</td>\n",
              "      <td>Service Indicators</td>\n",
              "      <td>M</td>\n",
              "      <td>%</td>\n",
              "      <td>95</td>\n",
              "      <td>96.9</td>\n",
              "      <td>95</td>\n",
              "      <td>96.9</td>\n",
              "    </tr>\n",
              "    <tr>\n",
              "      <th>1</th>\n",
              "      <td>Metro-North Railroad</td>\n",
              "      <td>On-Time Performance (West of Hudson)</td>\n",
              "      <td>Percent of commuter trains that arrive at thei...</td>\n",
              "      <td>2008</td>\n",
              "      <td>2</td>\n",
              "      <td>Service Indicators</td>\n",
              "      <td>M</td>\n",
              "      <td>%</td>\n",
              "      <td>95</td>\n",
              "      <td>96</td>\n",
              "      <td>95</td>\n",
              "      <td>95</td>\n",
              "    </tr>\n",
              "    <tr>\n",
              "      <th>2</th>\n",
              "      <td>Metro-North Railroad</td>\n",
              "      <td>On-Time Performance (West of Hudson)</td>\n",
              "      <td>Percent of commuter trains that arrive at thei...</td>\n",
              "      <td>2008</td>\n",
              "      <td>3</td>\n",
              "      <td>Service Indicators</td>\n",
              "      <td>M</td>\n",
              "      <td>%</td>\n",
              "      <td>95</td>\n",
              "      <td>96.3</td>\n",
              "      <td>95</td>\n",
              "      <td>96.9</td>\n",
              "    </tr>\n",
              "    <tr>\n",
              "      <th>3</th>\n",
              "      <td>Metro-North Railroad</td>\n",
              "      <td>On-Time Performance (West of Hudson)</td>\n",
              "      <td>Percent of commuter trains that arrive at thei...</td>\n",
              "      <td>2008</td>\n",
              "      <td>4</td>\n",
              "      <td>Service Indicators</td>\n",
              "      <td>M</td>\n",
              "      <td>%</td>\n",
              "      <td>95</td>\n",
              "      <td>96.8</td>\n",
              "      <td>95</td>\n",
              "      <td>98.3</td>\n",
              "    </tr>\n",
              "    <tr>\n",
              "      <th>4</th>\n",
              "      <td>Metro-North Railroad</td>\n",
              "      <td>On-Time Performance (West of Hudson)</td>\n",
              "      <td>Percent of commuter trains that arrive at thei...</td>\n",
              "      <td>2008</td>\n",
              "      <td>5</td>\n",
              "      <td>Service Indicators</td>\n",
              "      <td>M</td>\n",
              "      <td>%</td>\n",
              "      <td>95</td>\n",
              "      <td>96.6</td>\n",
              "      <td>95</td>\n",
              "      <td>95.8</td>\n",
              "    </tr>\n",
              "  </tbody>\n",
              "</table>\n",
              "</div>"
            ],
            "text/plain": [
              "            AGENCY_NAME  ... MONTHLY_ACTUAL\n",
              "0  Metro-North Railroad  ...           96.9\n",
              "1  Metro-North Railroad  ...             95\n",
              "2  Metro-North Railroad  ...           96.9\n",
              "3  Metro-North Railroad  ...           98.3\n",
              "4  Metro-North Railroad  ...           95.8\n",
              "\n",
              "[5 rows x 12 columns]"
            ]
          },
          "metadata": {},
          "execution_count": 56
        }
      ]
    },
    {
      "cell_type": "code",
      "metadata": {
        "id": "QDY-i6U6aCsi"
      },
      "source": [
        "from io import StringIO\n",
        "tag = '<a href=\"http://www.google.com\">Google</a>'\n",
        "root = objectify.parse(StringIO(tag)).getroot()"
      ],
      "execution_count": 57,
      "outputs": []
    },
    {
      "cell_type": "code",
      "metadata": {
        "colab": {
          "base_uri": "https://localhost:8080/",
          "height": 35
        },
        "id": "NKBHDA_1a9Lo",
        "outputId": "7a7f7da6-3141-473e-ea58-340b4619612a"
      },
      "source": [
        "root\n",
        "root.get('href')\n",
        "root.text"
      ],
      "execution_count": 58,
      "outputs": [
        {
          "output_type": "execute_result",
          "data": {
            "application/vnd.google.colaboratory.intrinsic+json": {
              "type": "string"
            },
            "text/plain": [
              "'Google'"
            ]
          },
          "metadata": {},
          "execution_count": 58
        }
      ]
    },
    {
      "cell_type": "markdown",
      "metadata": {
        "id": "p7Rtqrh9bFCR"
      },
      "source": [
        "**Binary Data Formats**"
      ]
    },
    {
      "cell_type": "code",
      "metadata": {
        "id": "VCjBL69ObAwF"
      },
      "source": [
        "frame = pd.read_csv('/content/sample_data/ex1.csv')\n",
        "frame\n",
        "frame.to_pickle('/content/sample_data/frame_pickle')"
      ],
      "execution_count": 64,
      "outputs": []
    },
    {
      "cell_type": "code",
      "metadata": {
        "colab": {
          "base_uri": "https://localhost:8080/",
          "height": 143
        },
        "id": "_paivwJOb0_s",
        "outputId": "699bfa14-0d7f-4f03-870f-f9b73f17c589"
      },
      "source": [
        "# read_pickle is only guaranteed to be backwards compatible\n",
        "pd.read_pickle('/content/sample_data/frame_pickle')"
      ],
      "execution_count": 61,
      "outputs": [
        {
          "output_type": "execute_result",
          "data": {
            "text/html": [
              "<div>\n",
              "<style scoped>\n",
              "    .dataframe tbody tr th:only-of-type {\n",
              "        vertical-align: middle;\n",
              "    }\n",
              "\n",
              "    .dataframe tbody tr th {\n",
              "        vertical-align: top;\n",
              "    }\n",
              "\n",
              "    .dataframe thead th {\n",
              "        text-align: right;\n",
              "    }\n",
              "</style>\n",
              "<table border=\"1\" class=\"dataframe\">\n",
              "  <thead>\n",
              "    <tr style=\"text-align: right;\">\n",
              "      <th></th>\n",
              "      <th>a</th>\n",
              "      <th>b</th>\n",
              "      <th>c</th>\n",
              "      <th>d</th>\n",
              "      <th>message</th>\n",
              "    </tr>\n",
              "  </thead>\n",
              "  <tbody>\n",
              "    <tr>\n",
              "      <th>0</th>\n",
              "      <td>1</td>\n",
              "      <td>2</td>\n",
              "      <td>3</td>\n",
              "      <td>4</td>\n",
              "      <td>hello</td>\n",
              "    </tr>\n",
              "    <tr>\n",
              "      <th>1</th>\n",
              "      <td>5</td>\n",
              "      <td>6</td>\n",
              "      <td>7</td>\n",
              "      <td>8</td>\n",
              "      <td>world</td>\n",
              "    </tr>\n",
              "    <tr>\n",
              "      <th>2</th>\n",
              "      <td>9</td>\n",
              "      <td>10</td>\n",
              "      <td>11</td>\n",
              "      <td>12</td>\n",
              "      <td>foo</td>\n",
              "    </tr>\n",
              "  </tbody>\n",
              "</table>\n",
              "</div>"
            ],
            "text/plain": [
              "   a   b   c   d message\n",
              "0  1   2   3   4   hello\n",
              "1  5   6   7   8   world\n",
              "2  9  10  11  12     foo"
            ]
          },
          "metadata": {},
          "execution_count": 61
        }
      ]
    },
    {
      "cell_type": "code",
      "metadata": {
        "id": "PFirNvoMb10e"
      },
      "source": [
        "!rm /content/sample_data/frame_pickle"
      ],
      "execution_count": 65,
      "outputs": []
    },
    {
      "cell_type": "markdown",
      "metadata": {
        "id": "wSheZSlvdx4K"
      },
      "source": [
        "**Using HDF5 Format**"
      ]
    },
    {
      "cell_type": "code",
      "metadata": {
        "colab": {
          "base_uri": "https://localhost:8080/"
        },
        "id": "2skc1Es3ciiF",
        "outputId": "6955db3a-b98b-4c88-d4e0-4c7c5ece3992"
      },
      "source": [
        "frame = pd.DataFrame({'a': np.random.randn(100)})\n",
        "store = pd.HDFStore('mydata.h5')\n",
        "store['obj1'] = frame\n",
        "store['obj1_col'] = frame['a']\n",
        "store"
      ],
      "execution_count": 66,
      "outputs": [
        {
          "output_type": "execute_result",
          "data": {
            "text/plain": [
              "<class 'pandas.io.pytables.HDFStore'>\n",
              "File path: mydata.h5"
            ]
          },
          "metadata": {},
          "execution_count": 66
        }
      ]
    },
    {
      "cell_type": "code",
      "metadata": {
        "colab": {
          "base_uri": "https://localhost:8080/",
          "height": 424
        },
        "id": "xf0_lOgJd7Wo",
        "outputId": "6c0d8a41-f019-4328-9797-93aae63468bf"
      },
      "source": [
        "store['obj1']"
      ],
      "execution_count": 67,
      "outputs": [
        {
          "output_type": "execute_result",
          "data": {
            "text/html": [
              "<div>\n",
              "<style scoped>\n",
              "    .dataframe tbody tr th:only-of-type {\n",
              "        vertical-align: middle;\n",
              "    }\n",
              "\n",
              "    .dataframe tbody tr th {\n",
              "        vertical-align: top;\n",
              "    }\n",
              "\n",
              "    .dataframe thead th {\n",
              "        text-align: right;\n",
              "    }\n",
              "</style>\n",
              "<table border=\"1\" class=\"dataframe\">\n",
              "  <thead>\n",
              "    <tr style=\"text-align: right;\">\n",
              "      <th></th>\n",
              "      <th>a</th>\n",
              "    </tr>\n",
              "  </thead>\n",
              "  <tbody>\n",
              "    <tr>\n",
              "      <th>0</th>\n",
              "      <td>-2.311812</td>\n",
              "    </tr>\n",
              "    <tr>\n",
              "      <th>1</th>\n",
              "      <td>1.213132</td>\n",
              "    </tr>\n",
              "    <tr>\n",
              "      <th>2</th>\n",
              "      <td>-0.169868</td>\n",
              "    </tr>\n",
              "    <tr>\n",
              "      <th>3</th>\n",
              "      <td>0.378974</td>\n",
              "    </tr>\n",
              "    <tr>\n",
              "      <th>4</th>\n",
              "      <td>-0.869566</td>\n",
              "    </tr>\n",
              "    <tr>\n",
              "      <th>...</th>\n",
              "      <td>...</td>\n",
              "    </tr>\n",
              "    <tr>\n",
              "      <th>95</th>\n",
              "      <td>0.963280</td>\n",
              "    </tr>\n",
              "    <tr>\n",
              "      <th>96</th>\n",
              "      <td>0.494796</td>\n",
              "    </tr>\n",
              "    <tr>\n",
              "      <th>97</th>\n",
              "      <td>0.736552</td>\n",
              "    </tr>\n",
              "    <tr>\n",
              "      <th>98</th>\n",
              "      <td>0.046571</td>\n",
              "    </tr>\n",
              "    <tr>\n",
              "      <th>99</th>\n",
              "      <td>-0.631186</td>\n",
              "    </tr>\n",
              "  </tbody>\n",
              "</table>\n",
              "<p>100 rows × 1 columns</p>\n",
              "</div>"
            ],
            "text/plain": [
              "           a\n",
              "0  -2.311812\n",
              "1   1.213132\n",
              "2  -0.169868\n",
              "3   0.378974\n",
              "4  -0.869566\n",
              "..       ...\n",
              "95  0.963280\n",
              "96  0.494796\n",
              "97  0.736552\n",
              "98  0.046571\n",
              "99 -0.631186\n",
              "\n",
              "[100 rows x 1 columns]"
            ]
          },
          "metadata": {},
          "execution_count": 67
        }
      ]
    },
    {
      "cell_type": "code",
      "metadata": {
        "id": "WSHBqToUd_Go"
      },
      "source": [
        "store.put('obj2', frame, format='table')\n",
        "store.select('obj2', where=['index >= 10 and index <= 15'])\n",
        "store.close()"
      ],
      "execution_count": 68,
      "outputs": []
    },
    {
      "cell_type": "code",
      "metadata": {
        "colab": {
          "base_uri": "https://localhost:8080/",
          "height": 206
        },
        "id": "QM5VkGjWeD_E",
        "outputId": "5d11f77a-beb4-46a7-f7ae-ce431efbaacb"
      },
      "source": [
        "frame.to_hdf('mydata.h5', 'obj3', format='table')\n",
        "pd.read_hdf('mydata.h5', 'obj3', where=['index < 5'])"
      ],
      "execution_count": 70,
      "outputs": [
        {
          "output_type": "execute_result",
          "data": {
            "text/html": [
              "<div>\n",
              "<style scoped>\n",
              "    .dataframe tbody tr th:only-of-type {\n",
              "        vertical-align: middle;\n",
              "    }\n",
              "\n",
              "    .dataframe tbody tr th {\n",
              "        vertical-align: top;\n",
              "    }\n",
              "\n",
              "    .dataframe thead th {\n",
              "        text-align: right;\n",
              "    }\n",
              "</style>\n",
              "<table border=\"1\" class=\"dataframe\">\n",
              "  <thead>\n",
              "    <tr style=\"text-align: right;\">\n",
              "      <th></th>\n",
              "      <th>a</th>\n",
              "    </tr>\n",
              "  </thead>\n",
              "  <tbody>\n",
              "    <tr>\n",
              "      <th>0</th>\n",
              "      <td>-2.311812</td>\n",
              "    </tr>\n",
              "    <tr>\n",
              "      <th>1</th>\n",
              "      <td>1.213132</td>\n",
              "    </tr>\n",
              "    <tr>\n",
              "      <th>2</th>\n",
              "      <td>-0.169868</td>\n",
              "    </tr>\n",
              "    <tr>\n",
              "      <th>3</th>\n",
              "      <td>0.378974</td>\n",
              "    </tr>\n",
              "    <tr>\n",
              "      <th>4</th>\n",
              "      <td>-0.869566</td>\n",
              "    </tr>\n",
              "  </tbody>\n",
              "</table>\n",
              "</div>"
            ],
            "text/plain": [
              "          a\n",
              "0 -2.311812\n",
              "1  1.213132\n",
              "2 -0.169868\n",
              "3  0.378974\n",
              "4 -0.869566"
            ]
          },
          "metadata": {},
          "execution_count": 70
        }
      ]
    },
    {
      "cell_type": "code",
      "metadata": {
        "id": "4Gsu0pBbeMTD"
      },
      "source": [
        "!rm /content/mydata.h5"
      ],
      "execution_count": 71,
      "outputs": []
    },
    {
      "cell_type": "markdown",
      "metadata": {
        "id": "24VoPg1texpl"
      },
      "source": [
        "**Reading Microsoft Excel Files**"
      ]
    },
    {
      "cell_type": "code",
      "metadata": {
        "id": "HW3YlM12eusC"
      },
      "source": [
        "xlsx = pd.ExcelFile('/content/sample_data/ex1.xlsx')"
      ],
      "execution_count": 73,
      "outputs": []
    },
    {
      "cell_type": "code",
      "metadata": {
        "colab": {
          "base_uri": "https://localhost:8080/",
          "height": 143
        },
        "id": "nQpfRlvPfHdq",
        "outputId": "3581616a-3320-4f2c-fc7e-b8af5c372c96"
      },
      "source": [
        "pd.read_excel(xlsx, 'Sheet1')"
      ],
      "execution_count": 74,
      "outputs": [
        {
          "output_type": "execute_result",
          "data": {
            "text/html": [
              "<div>\n",
              "<style scoped>\n",
              "    .dataframe tbody tr th:only-of-type {\n",
              "        vertical-align: middle;\n",
              "    }\n",
              "\n",
              "    .dataframe tbody tr th {\n",
              "        vertical-align: top;\n",
              "    }\n",
              "\n",
              "    .dataframe thead th {\n",
              "        text-align: right;\n",
              "    }\n",
              "</style>\n",
              "<table border=\"1\" class=\"dataframe\">\n",
              "  <thead>\n",
              "    <tr style=\"text-align: right;\">\n",
              "      <th></th>\n",
              "      <th>Unnamed: 0</th>\n",
              "      <th>a</th>\n",
              "      <th>b</th>\n",
              "      <th>c</th>\n",
              "      <th>d</th>\n",
              "      <th>message</th>\n",
              "    </tr>\n",
              "  </thead>\n",
              "  <tbody>\n",
              "    <tr>\n",
              "      <th>0</th>\n",
              "      <td>0</td>\n",
              "      <td>1</td>\n",
              "      <td>2</td>\n",
              "      <td>3</td>\n",
              "      <td>4</td>\n",
              "      <td>hello</td>\n",
              "    </tr>\n",
              "    <tr>\n",
              "      <th>1</th>\n",
              "      <td>1</td>\n",
              "      <td>5</td>\n",
              "      <td>6</td>\n",
              "      <td>7</td>\n",
              "      <td>8</td>\n",
              "      <td>world</td>\n",
              "    </tr>\n",
              "    <tr>\n",
              "      <th>2</th>\n",
              "      <td>2</td>\n",
              "      <td>9</td>\n",
              "      <td>10</td>\n",
              "      <td>11</td>\n",
              "      <td>12</td>\n",
              "      <td>foo</td>\n",
              "    </tr>\n",
              "  </tbody>\n",
              "</table>\n",
              "</div>"
            ],
            "text/plain": [
              "   Unnamed: 0  a   b   c   d message\n",
              "0           0  1   2   3   4   hello\n",
              "1           1  5   6   7   8   world\n",
              "2           2  9  10  11  12     foo"
            ]
          },
          "metadata": {},
          "execution_count": 74
        }
      ]
    },
    {
      "cell_type": "code",
      "metadata": {
        "colab": {
          "base_uri": "https://localhost:8080/",
          "height": 143
        },
        "id": "2fHr1PQ0fJKy",
        "outputId": "46287bc1-a784-40bf-cf9f-eb65d3783a57"
      },
      "source": [
        "frame = pd.read_excel('/content/sample_data/ex1.xlsx', 'Sheet1')\n",
        "frame"
      ],
      "execution_count": 75,
      "outputs": [
        {
          "output_type": "execute_result",
          "data": {
            "text/html": [
              "<div>\n",
              "<style scoped>\n",
              "    .dataframe tbody tr th:only-of-type {\n",
              "        vertical-align: middle;\n",
              "    }\n",
              "\n",
              "    .dataframe tbody tr th {\n",
              "        vertical-align: top;\n",
              "    }\n",
              "\n",
              "    .dataframe thead th {\n",
              "        text-align: right;\n",
              "    }\n",
              "</style>\n",
              "<table border=\"1\" class=\"dataframe\">\n",
              "  <thead>\n",
              "    <tr style=\"text-align: right;\">\n",
              "      <th></th>\n",
              "      <th>Unnamed: 0</th>\n",
              "      <th>a</th>\n",
              "      <th>b</th>\n",
              "      <th>c</th>\n",
              "      <th>d</th>\n",
              "      <th>message</th>\n",
              "    </tr>\n",
              "  </thead>\n",
              "  <tbody>\n",
              "    <tr>\n",
              "      <th>0</th>\n",
              "      <td>0</td>\n",
              "      <td>1</td>\n",
              "      <td>2</td>\n",
              "      <td>3</td>\n",
              "      <td>4</td>\n",
              "      <td>hello</td>\n",
              "    </tr>\n",
              "    <tr>\n",
              "      <th>1</th>\n",
              "      <td>1</td>\n",
              "      <td>5</td>\n",
              "      <td>6</td>\n",
              "      <td>7</td>\n",
              "      <td>8</td>\n",
              "      <td>world</td>\n",
              "    </tr>\n",
              "    <tr>\n",
              "      <th>2</th>\n",
              "      <td>2</td>\n",
              "      <td>9</td>\n",
              "      <td>10</td>\n",
              "      <td>11</td>\n",
              "      <td>12</td>\n",
              "      <td>foo</td>\n",
              "    </tr>\n",
              "  </tbody>\n",
              "</table>\n",
              "</div>"
            ],
            "text/plain": [
              "   Unnamed: 0  a   b   c   d message\n",
              "0           0  1   2   3   4   hello\n",
              "1           1  5   6   7   8   world\n",
              "2           2  9  10  11  12     foo"
            ]
          },
          "metadata": {},
          "execution_count": 75
        }
      ]
    },
    {
      "cell_type": "code",
      "metadata": {
        "id": "ZKDuKYTcfNrV"
      },
      "source": [
        "writer = pd.ExcelWriter('/content/sample_data/ex2.xlsx')\n",
        "frame.to_excel(writer, 'Sheet1')\n",
        "writer.save()"
      ],
      "execution_count": 76,
      "outputs": []
    },
    {
      "cell_type": "code",
      "metadata": {
        "id": "4EON8kObfTBx"
      },
      "source": [
        "frame.to_excel('/content/sample_data/ex2.xlsx')"
      ],
      "execution_count": 77,
      "outputs": []
    },
    {
      "cell_type": "code",
      "metadata": {
        "id": "xYb6NN1wfcIA"
      },
      "source": [
        "!rm /content/sample_data/ex2.xlsx"
      ],
      "execution_count": 78,
      "outputs": []
    },
    {
      "cell_type": "markdown",
      "metadata": {
        "id": "6dmaRbGafqAQ"
      },
      "source": [
        "**Interacting with Web APIs**"
      ]
    },
    {
      "cell_type": "code",
      "metadata": {
        "colab": {
          "base_uri": "https://localhost:8080/"
        },
        "id": "N0jwwXddfo1V",
        "outputId": "103c6d79-b681-4fbd-8de3-ebe45d48ff48"
      },
      "source": [
        "import requests\n",
        "url = 'https://api.github.com/repos/pandas-dev/pandas/issues'\n",
        "resp = requests.get(url)\n",
        "resp"
      ],
      "execution_count": 79,
      "outputs": [
        {
          "output_type": "execute_result",
          "data": {
            "text/plain": [
              "<Response [200]>"
            ]
          },
          "metadata": {},
          "execution_count": 79
        }
      ]
    },
    {
      "cell_type": "code",
      "metadata": {
        "colab": {
          "base_uri": "https://localhost:8080/",
          "height": 35
        },
        "id": "Vt3zzWa4fzCR",
        "outputId": "143ab13d-2946-4c6e-e70e-2f3e91345d45"
      },
      "source": [
        "data = resp.json()\n",
        "data[0]['title']"
      ],
      "execution_count": 80,
      "outputs": [
        {
          "output_type": "execute_result",
          "data": {
            "application/vnd.google.colaboratory.intrinsic+json": {
              "type": "string"
            },
            "text/plain": [
              "'BUG: Index.get_loc(np.nan) non-unique non-monotonic'"
            ]
          },
          "metadata": {},
          "execution_count": 80
        }
      ]
    },
    {
      "cell_type": "code",
      "metadata": {
        "colab": {
          "base_uri": "https://localhost:8080/",
          "height": 424
        },
        "id": "EvaOwDVRgA4C",
        "outputId": "48799391-b6f8-48d8-bbf5-7bd343cd2e0d"
      },
      "source": [
        "issues = pd.DataFrame(data, columns=['number', 'title',\n",
        "                                     'labels', 'state'])\n",
        "issues"
      ],
      "execution_count": 82,
      "outputs": [
        {
          "output_type": "execute_result",
          "data": {
            "text/html": [
              "<div>\n",
              "<style scoped>\n",
              "    .dataframe tbody tr th:only-of-type {\n",
              "        vertical-align: middle;\n",
              "    }\n",
              "\n",
              "    .dataframe tbody tr th {\n",
              "        vertical-align: top;\n",
              "    }\n",
              "\n",
              "    .dataframe thead th {\n",
              "        text-align: right;\n",
              "    }\n",
              "</style>\n",
              "<table border=\"1\" class=\"dataframe\">\n",
              "  <thead>\n",
              "    <tr style=\"text-align: right;\">\n",
              "      <th></th>\n",
              "      <th>number</th>\n",
              "      <th>title</th>\n",
              "      <th>labels</th>\n",
              "      <th>state</th>\n",
              "    </tr>\n",
              "  </thead>\n",
              "  <tbody>\n",
              "    <tr>\n",
              "      <th>0</th>\n",
              "      <td>43711</td>\n",
              "      <td>BUG: Index.get_loc(np.nan) non-unique non-mono...</td>\n",
              "      <td>[]</td>\n",
              "      <td>open</td>\n",
              "    </tr>\n",
              "    <tr>\n",
              "      <th>1</th>\n",
              "      <td>43710</td>\n",
              "      <td>ENH: Add equivalence test for float in to_nume...</td>\n",
              "      <td>[]</td>\n",
              "      <td>open</td>\n",
              "    </tr>\n",
              "    <tr>\n",
              "      <th>2</th>\n",
              "      <td>43709</td>\n",
              "      <td>REGR: Passing args/kwargs to Series.agg fails</td>\n",
              "      <td>[{'id': 76811, 'node_id': 'MDU6TGFiZWw3NjgxMQ=...</td>\n",
              "      <td>open</td>\n",
              "    </tr>\n",
              "    <tr>\n",
              "      <th>3</th>\n",
              "      <td>43708</td>\n",
              "      <td>DOC: pandas.DataFrame.rename's introduction ma...</td>\n",
              "      <td>[{'id': 134699, 'node_id': 'MDU6TGFiZWwxMzQ2OT...</td>\n",
              "      <td>open</td>\n",
              "    </tr>\n",
              "    <tr>\n",
              "      <th>4</th>\n",
              "      <td>43707</td>\n",
              "      <td>BUG: assert_series_equal b/w datetime column  ...</td>\n",
              "      <td>[{'id': 76811, 'node_id': 'MDU6TGFiZWw3NjgxMQ=...</td>\n",
              "      <td>open</td>\n",
              "    </tr>\n",
              "    <tr>\n",
              "      <th>...</th>\n",
              "      <td>...</td>\n",
              "      <td>...</td>\n",
              "      <td>...</td>\n",
              "      <td>...</td>\n",
              "    </tr>\n",
              "    <tr>\n",
              "      <th>25</th>\n",
              "      <td>43668</td>\n",
              "      <td>BUG: DataFrame.convert_dtypes doesn't preserve...</td>\n",
              "      <td>[{'id': 76811, 'node_id': 'MDU6TGFiZWw3NjgxMQ=...</td>\n",
              "      <td>open</td>\n",
              "    </tr>\n",
              "    <tr>\n",
              "      <th>26</th>\n",
              "      <td>43667</td>\n",
              "      <td>BUG: rename fails when using level</td>\n",
              "      <td>[{'id': 71268330, 'node_id': 'MDU6TGFiZWw3MTI2...</td>\n",
              "      <td>open</td>\n",
              "    </tr>\n",
              "    <tr>\n",
              "      <th>27</th>\n",
              "      <td>43666</td>\n",
              "      <td>ENH: RangeIndex.sort_values now avoids materia...</td>\n",
              "      <td>[{'id': 76812, 'node_id': 'MDU6TGFiZWw3NjgxMg=...</td>\n",
              "      <td>open</td>\n",
              "    </tr>\n",
              "    <tr>\n",
              "      <th>28</th>\n",
              "      <td>43664</td>\n",
              "      <td>TYP: Redundant imports to define the public API</td>\n",
              "      <td>[{'id': 1280988427, 'node_id': 'MDU6TGFiZWwxMj...</td>\n",
              "      <td>open</td>\n",
              "    </tr>\n",
              "    <tr>\n",
              "      <th>29</th>\n",
              "      <td>43663</td>\n",
              "      <td>ENH: Add Inner Fill Option</td>\n",
              "      <td>[{'id': 76812, 'node_id': 'MDU6TGFiZWw3NjgxMg=...</td>\n",
              "      <td>open</td>\n",
              "    </tr>\n",
              "  </tbody>\n",
              "</table>\n",
              "<p>30 rows × 4 columns</p>\n",
              "</div>"
            ],
            "text/plain": [
              "    number  ... state\n",
              "0    43711  ...  open\n",
              "1    43710  ...  open\n",
              "2    43709  ...  open\n",
              "3    43708  ...  open\n",
              "4    43707  ...  open\n",
              "..     ...  ...   ...\n",
              "25   43668  ...  open\n",
              "26   43667  ...  open\n",
              "27   43666  ...  open\n",
              "28   43664  ...  open\n",
              "29   43663  ...  open\n",
              "\n",
              "[30 rows x 4 columns]"
            ]
          },
          "metadata": {},
          "execution_count": 82
        }
      ]
    },
    {
      "cell_type": "markdown",
      "metadata": {
        "id": "-WTpHcDjgMVy"
      },
      "source": [
        "**Interacting with Databases**"
      ]
    },
    {
      "cell_type": "code",
      "metadata": {
        "id": "-N742ltogIeZ"
      },
      "source": [
        "import sqlite3\n",
        "query = \"\"\"\n",
        "CREATE TABLE test1\n",
        "(a VARCHAR(20), b VARCHAR(20),\n",
        " c REAL,        d INTEGER\n",
        ");\"\"\"\n",
        "con = sqlite3.connect('mydata.sqlite')\n",
        "con.execute(query)\n",
        "con.commit()"
      ],
      "execution_count": 86,
      "outputs": []
    },
    {
      "cell_type": "code",
      "metadata": {
        "id": "SHw5LFsxgSbp"
      },
      "source": [
        "data = [('Atlanta', 'Georgia', 1.25, 6),\n",
        "        ('Tallahassee', 'Florida', 2.6, 3),\n",
        "        ('Sacramento', 'California', 1.7, 5)]\n",
        "stmt = \"INSERT INTO test VALUES(?, ?, ?, ?)\"\n",
        "con.executemany(stmt, data)\n",
        "con.commit()"
      ],
      "execution_count": 87,
      "outputs": []
    },
    {
      "cell_type": "code",
      "metadata": {
        "colab": {
          "base_uri": "https://localhost:8080/"
        },
        "id": "8xKrFbd_gnF6",
        "outputId": "58f71810-6745-46e4-b895-1bac5628cfa7"
      },
      "source": [
        "cursor = con.execute('select * from test')\n",
        "rows = cursor.fetchall()\n",
        "rows"
      ],
      "execution_count": 89,
      "outputs": [
        {
          "output_type": "execute_result",
          "data": {
            "text/plain": [
              "[('Atlanta', 'Georgia', 1.25, 6),\n",
              " ('Tallahassee', 'Florida', 2.6, 3),\n",
              " ('Sacramento', 'California', 1.7, 5)]"
            ]
          },
          "metadata": {},
          "execution_count": 89
        }
      ]
    },
    {
      "cell_type": "code",
      "metadata": {
        "colab": {
          "base_uri": "https://localhost:8080/",
          "height": 143
        },
        "id": "ijNI0QVGgrle",
        "outputId": "753e6c40-ed65-4677-8192-9a87733d2199"
      },
      "source": [
        "cursor.description\n",
        "pd.DataFrame(rows, columns=[x[0] for x in cursor.description])"
      ],
      "execution_count": 90,
      "outputs": [
        {
          "output_type": "execute_result",
          "data": {
            "text/html": [
              "<div>\n",
              "<style scoped>\n",
              "    .dataframe tbody tr th:only-of-type {\n",
              "        vertical-align: middle;\n",
              "    }\n",
              "\n",
              "    .dataframe tbody tr th {\n",
              "        vertical-align: top;\n",
              "    }\n",
              "\n",
              "    .dataframe thead th {\n",
              "        text-align: right;\n",
              "    }\n",
              "</style>\n",
              "<table border=\"1\" class=\"dataframe\">\n",
              "  <thead>\n",
              "    <tr style=\"text-align: right;\">\n",
              "      <th></th>\n",
              "      <th>a</th>\n",
              "      <th>b</th>\n",
              "      <th>c</th>\n",
              "      <th>d</th>\n",
              "    </tr>\n",
              "  </thead>\n",
              "  <tbody>\n",
              "    <tr>\n",
              "      <th>0</th>\n",
              "      <td>Atlanta</td>\n",
              "      <td>Georgia</td>\n",
              "      <td>1.25</td>\n",
              "      <td>6</td>\n",
              "    </tr>\n",
              "    <tr>\n",
              "      <th>1</th>\n",
              "      <td>Tallahassee</td>\n",
              "      <td>Florida</td>\n",
              "      <td>2.60</td>\n",
              "      <td>3</td>\n",
              "    </tr>\n",
              "    <tr>\n",
              "      <th>2</th>\n",
              "      <td>Sacramento</td>\n",
              "      <td>California</td>\n",
              "      <td>1.70</td>\n",
              "      <td>5</td>\n",
              "    </tr>\n",
              "  </tbody>\n",
              "</table>\n",
              "</div>"
            ],
            "text/plain": [
              "             a           b     c  d\n",
              "0      Atlanta     Georgia  1.25  6\n",
              "1  Tallahassee     Florida  2.60  3\n",
              "2   Sacramento  California  1.70  5"
            ]
          },
          "metadata": {},
          "execution_count": 90
        }
      ]
    },
    {
      "cell_type": "code",
      "metadata": {
        "colab": {
          "base_uri": "https://localhost:8080/",
          "height": 143
        },
        "id": "sCAR5AUYgzvb",
        "outputId": "3c1a5bca-fa30-41e9-9373-0205a44bb7bc"
      },
      "source": [
        "import sqlalchemy as sqla\n",
        "db = sqla.create_engine('sqlite:///mydata.sqlite')\n",
        "pd.read_sql('select * from test', db)"
      ],
      "execution_count": 91,
      "outputs": [
        {
          "output_type": "execute_result",
          "data": {
            "text/html": [
              "<div>\n",
              "<style scoped>\n",
              "    .dataframe tbody tr th:only-of-type {\n",
              "        vertical-align: middle;\n",
              "    }\n",
              "\n",
              "    .dataframe tbody tr th {\n",
              "        vertical-align: top;\n",
              "    }\n",
              "\n",
              "    .dataframe thead th {\n",
              "        text-align: right;\n",
              "    }\n",
              "</style>\n",
              "<table border=\"1\" class=\"dataframe\">\n",
              "  <thead>\n",
              "    <tr style=\"text-align: right;\">\n",
              "      <th></th>\n",
              "      <th>a</th>\n",
              "      <th>b</th>\n",
              "      <th>c</th>\n",
              "      <th>d</th>\n",
              "    </tr>\n",
              "  </thead>\n",
              "  <tbody>\n",
              "    <tr>\n",
              "      <th>0</th>\n",
              "      <td>Atlanta</td>\n",
              "      <td>Georgia</td>\n",
              "      <td>1.25</td>\n",
              "      <td>6</td>\n",
              "    </tr>\n",
              "    <tr>\n",
              "      <th>1</th>\n",
              "      <td>Tallahassee</td>\n",
              "      <td>Florida</td>\n",
              "      <td>2.60</td>\n",
              "      <td>3</td>\n",
              "    </tr>\n",
              "    <tr>\n",
              "      <th>2</th>\n",
              "      <td>Sacramento</td>\n",
              "      <td>California</td>\n",
              "      <td>1.70</td>\n",
              "      <td>5</td>\n",
              "    </tr>\n",
              "  </tbody>\n",
              "</table>\n",
              "</div>"
            ],
            "text/plain": [
              "             a           b     c  d\n",
              "0      Atlanta     Georgia  1.25  6\n",
              "1  Tallahassee     Florida  2.60  3\n",
              "2   Sacramento  California  1.70  5"
            ]
          },
          "metadata": {},
          "execution_count": 91
        }
      ]
    },
    {
      "cell_type": "code",
      "metadata": {
        "id": "GwLKKwaSg2yL"
      },
      "source": [
        "!rm mydata.sqlite"
      ],
      "execution_count": 92,
      "outputs": []
    }
  ]
}