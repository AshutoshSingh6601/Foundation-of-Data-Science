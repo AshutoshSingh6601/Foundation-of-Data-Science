{
  "nbformat": 4,
  "nbformat_minor": 0,
  "metadata": {
    "colab": {
      "name": "12_Ashutosh_Data and Sampling Distributions.ipynb",
      "provenance": [],
      "collapsed_sections": []
    },
    "kernelspec": {
      "name": "python3",
      "display_name": "Python 3"
    },
    "language_info": {
      "name": "python"
    }
  },
  "cells": [
    {
      "cell_type": "code",
      "metadata": {
        "id": "HX6TI0NZrS5V"
      },
      "source": [
        "import pandas as pd\n",
        "import numpy as np\n",
        "import scipy.stats as stats\n",
        "from scipy.stats import binom\n",
        "import seaborn as sns\n",
        "import pylab\n",
        "\n",
        "import matplotlib.pyplot as plt\n",
        "%matplotlib inline"
      ],
      "execution_count": 1,
      "outputs": []
    },
    {
      "cell_type": "code",
      "metadata": {
        "id": "23xKnx40zbCf"
      },
      "source": [
        "loans_income = pd.read_csv('/content/sample_data/loans_income.csv')\n",
        "sp500_px = pd.read_csv('/content/sample_data/sp500_px.csv')"
      ],
      "execution_count": 40,
      "outputs": []
    },
    {
      "cell_type": "code",
      "metadata": {
        "colab": {
          "base_uri": "https://localhost:8080/"
        },
        "id": "Y9JC5WuD1axY",
        "outputId": "6172c4a0-a139-41fd-abc1-fc1aca65c8b2"
      },
      "source": [
        "loans_income.shape"
      ],
      "execution_count": 4,
      "outputs": [
        {
          "output_type": "execute_result",
          "data": {
            "text/plain": [
              "(50000, 1)"
            ]
          },
          "metadata": {},
          "execution_count": 4
        }
      ]
    },
    {
      "cell_type": "code",
      "metadata": {
        "colab": {
          "base_uri": "https://localhost:8080/"
        },
        "id": "evrsFYqI1fi7",
        "outputId": "6521e5f5-43bd-4142-9847-3303835e7e21"
      },
      "source": [
        "#Take a 1000 Samples\n",
        "samples = loans_income.sample(n=1000)\n",
        "samples.shape"
      ],
      "execution_count": 5,
      "outputs": [
        {
          "output_type": "execute_result",
          "data": {
            "text/plain": [
              "(1000, 1)"
            ]
          },
          "metadata": {},
          "execution_count": 5
        }
      ]
    },
    {
      "cell_type": "code",
      "metadata": {
        "colab": {
          "base_uri": "https://localhost:8080/",
          "height": 206
        },
        "id": "R0CLdY_A1u2J",
        "outputId": "d690df59-af76-4f5a-ba3e-a42c22145dc7"
      },
      "source": [
        "samples.head()"
      ],
      "execution_count": 7,
      "outputs": [
        {
          "output_type": "execute_result",
          "data": {
            "text/html": [
              "<div>\n",
              "<style scoped>\n",
              "    .dataframe tbody tr th:only-of-type {\n",
              "        vertical-align: middle;\n",
              "    }\n",
              "\n",
              "    .dataframe tbody tr th {\n",
              "        vertical-align: top;\n",
              "    }\n",
              "\n",
              "    .dataframe thead th {\n",
              "        text-align: right;\n",
              "    }\n",
              "</style>\n",
              "<table border=\"1\" class=\"dataframe\">\n",
              "  <thead>\n",
              "    <tr style=\"text-align: right;\">\n",
              "      <th></th>\n",
              "      <th>x</th>\n",
              "    </tr>\n",
              "  </thead>\n",
              "  <tbody>\n",
              "    <tr>\n",
              "      <th>15629</th>\n",
              "      <td>42542</td>\n",
              "    </tr>\n",
              "    <tr>\n",
              "      <th>10877</th>\n",
              "      <td>110000</td>\n",
              "    </tr>\n",
              "    <tr>\n",
              "      <th>15363</th>\n",
              "      <td>50000</td>\n",
              "    </tr>\n",
              "    <tr>\n",
              "      <th>22507</th>\n",
              "      <td>36000</td>\n",
              "    </tr>\n",
              "    <tr>\n",
              "      <th>37585</th>\n",
              "      <td>60000</td>\n",
              "    </tr>\n",
              "  </tbody>\n",
              "</table>\n",
              "</div>"
            ],
            "text/plain": [
              "            x\n",
              "15629   42542\n",
              "10877  110000\n",
              "15363   50000\n",
              "22507   36000\n",
              "37585   60000"
            ]
          },
          "metadata": {},
          "execution_count": 7
        }
      ]
    },
    {
      "cell_type": "code",
      "metadata": {
        "colab": {
          "base_uri": "https://localhost:8080/",
          "height": 206
        },
        "id": "BX00IQ_z1y7-",
        "outputId": "e39470ef-a58b-45f7-dbe7-0c80267d7f91"
      },
      "source": [
        "samples.tail()"
      ],
      "execution_count": 9,
      "outputs": [
        {
          "output_type": "execute_result",
          "data": {
            "text/html": [
              "<div>\n",
              "<style scoped>\n",
              "    .dataframe tbody tr th:only-of-type {\n",
              "        vertical-align: middle;\n",
              "    }\n",
              "\n",
              "    .dataframe tbody tr th {\n",
              "        vertical-align: top;\n",
              "    }\n",
              "\n",
              "    .dataframe thead th {\n",
              "        text-align: right;\n",
              "    }\n",
              "</style>\n",
              "<table border=\"1\" class=\"dataframe\">\n",
              "  <thead>\n",
              "    <tr style=\"text-align: right;\">\n",
              "      <th></th>\n",
              "      <th>x</th>\n",
              "    </tr>\n",
              "  </thead>\n",
              "  <tbody>\n",
              "    <tr>\n",
              "      <th>25949</th>\n",
              "      <td>118000</td>\n",
              "    </tr>\n",
              "    <tr>\n",
              "      <th>39020</th>\n",
              "      <td>40000</td>\n",
              "    </tr>\n",
              "    <tr>\n",
              "      <th>45167</th>\n",
              "      <td>60000</td>\n",
              "    </tr>\n",
              "    <tr>\n",
              "      <th>8160</th>\n",
              "      <td>24000</td>\n",
              "    </tr>\n",
              "    <tr>\n",
              "      <th>24371</th>\n",
              "      <td>150000</td>\n",
              "    </tr>\n",
              "  </tbody>\n",
              "</table>\n",
              "</div>"
            ],
            "text/plain": [
              "            x\n",
              "25949  118000\n",
              "39020   40000\n",
              "45167   60000\n",
              "8160    24000\n",
              "24371  150000"
            ]
          },
          "metadata": {},
          "execution_count": 9
        }
      ]
    },
    {
      "cell_type": "code",
      "metadata": {
        "colab": {
          "base_uri": "https://localhost:8080/"
        },
        "id": "VqF1m0mz2OM8",
        "outputId": "34906bb0-3451-46e5-cb75-3a67751b501e"
      },
      "source": [
        "#mean of 5 numbers\n",
        "sample_mean_5 = samples.rolling(5).mean().x\n",
        "sample_mean_5"
      ],
      "execution_count": 10,
      "outputs": [
        {
          "output_type": "execute_result",
          "data": {
            "text/plain": [
              "15629        NaN\n",
              "10877        NaN\n",
              "15363        NaN\n",
              "22507        NaN\n",
              "37585    59708.4\n",
              "          ...   \n",
              "25949    69000.0\n",
              "39020    66000.0\n",
              "45167    66400.0\n",
              "8160     59400.0\n",
              "24371    78400.0\n",
              "Name: x, Length: 1000, dtype: float64"
            ]
          },
          "metadata": {},
          "execution_count": 10
        }
      ]
    },
    {
      "cell_type": "code",
      "metadata": {
        "colab": {
          "base_uri": "https://localhost:8080/"
        },
        "id": "9ZaT-NUk2bJS",
        "outputId": "507f6d45-422e-41d1-a36d-d7a402b00ebe"
      },
      "source": [
        "sample_mean_5.shape"
      ],
      "execution_count": 11,
      "outputs": [
        {
          "output_type": "execute_result",
          "data": {
            "text/plain": [
              "(1000,)"
            ]
          },
          "metadata": {},
          "execution_count": 11
        }
      ]
    },
    {
      "cell_type": "code",
      "metadata": {
        "colab": {
          "base_uri": "https://localhost:8080/"
        },
        "id": "uV5Shw7H2oqj",
        "outputId": "b5730f5c-9613-4006-ee2f-7bc54ea9c11f"
      },
      "source": [
        "sample_mean_5 = sample_mean_5.dropna()\n",
        "sample_mean_5"
      ],
      "execution_count": 12,
      "outputs": [
        {
          "output_type": "execute_result",
          "data": {
            "text/plain": [
              "37585    59708.4\n",
              "15632    55800.0\n",
              "9083     48200.0\n",
              "32276    57400.0\n",
              "24916    60800.0\n",
              "          ...   \n",
              "25949    69000.0\n",
              "39020    66000.0\n",
              "45167    66400.0\n",
              "8160     59400.0\n",
              "24371    78400.0\n",
              "Name: x, Length: 996, dtype: float64"
            ]
          },
          "metadata": {},
          "execution_count": 12
        }
      ]
    },
    {
      "cell_type": "code",
      "metadata": {
        "colab": {
          "base_uri": "https://localhost:8080/"
        },
        "id": "zajYa7-93I1f",
        "outputId": "02ca6af4-de57-4eaf-ecfa-e5086ade8dfc"
      },
      "source": [
        "sample_mean_5.shape"
      ],
      "execution_count": 13,
      "outputs": [
        {
          "output_type": "execute_result",
          "data": {
            "text/plain": [
              "(996,)"
            ]
          },
          "metadata": {},
          "execution_count": 13
        }
      ]
    },
    {
      "cell_type": "code",
      "metadata": {
        "colab": {
          "base_uri": "https://localhost:8080/"
        },
        "id": "J5KgE___3lDK",
        "outputId": "4e1cc43e-c350-464c-b100-e40507282bfe"
      },
      "source": [
        "#mean of 20 numbers\n",
        "sample_mean_20 = samples.rolling(20).mean().x\n",
        "sample_mean_20"
      ],
      "execution_count": 14,
      "outputs": [
        {
          "output_type": "execute_result",
          "data": {
            "text/plain": [
              "15629        NaN\n",
              "10877        NaN\n",
              "15363        NaN\n",
              "22507        NaN\n",
              "37585        NaN\n",
              "          ...   \n",
              "25949    67700.0\n",
              "39020    65750.0\n",
              "45167    65000.0\n",
              "8160     65000.0\n",
              "24371    68200.0\n",
              "Name: x, Length: 1000, dtype: float64"
            ]
          },
          "metadata": {},
          "execution_count": 14
        }
      ]
    },
    {
      "cell_type": "code",
      "metadata": {
        "colab": {
          "base_uri": "https://localhost:8080/"
        },
        "id": "MOTS_T6x3vj8",
        "outputId": "a9b7f7dc-28a0-4863-eabf-cb2bd14f8c78"
      },
      "source": [
        "sample_mean_20.shape"
      ],
      "execution_count": 15,
      "outputs": [
        {
          "output_type": "execute_result",
          "data": {
            "text/plain": [
              "(1000,)"
            ]
          },
          "metadata": {},
          "execution_count": 15
        }
      ]
    },
    {
      "cell_type": "code",
      "metadata": {
        "colab": {
          "base_uri": "https://localhost:8080/"
        },
        "id": "t_SowtCQ3yQw",
        "outputId": "48e53968-98c1-41d0-c77e-ea3514cc6d8e"
      },
      "source": [
        "sample_mean_20 = sample_mean_20.dropna()\n",
        "sample_mean_20"
      ],
      "execution_count": 16,
      "outputs": [
        {
          "output_type": "execute_result",
          "data": {
            "text/plain": [
              "30356    65452.3\n",
              "37790    68325.2\n",
              "26733    65790.2\n",
              "572      67140.2\n",
              "7266     70590.2\n",
              "          ...   \n",
              "25949    67700.0\n",
              "39020    65750.0\n",
              "45167    65000.0\n",
              "8160     65000.0\n",
              "24371    68200.0\n",
              "Name: x, Length: 981, dtype: float64"
            ]
          },
          "metadata": {},
          "execution_count": 16
        }
      ]
    },
    {
      "cell_type": "code",
      "metadata": {
        "colab": {
          "base_uri": "https://localhost:8080/"
        },
        "id": "7W9U3Fx134K-",
        "outputId": "0bb762a7-4863-44f8-ff5f-a56cc9b50ddf"
      },
      "source": [
        "sample_mean_20.shape"
      ],
      "execution_count": 17,
      "outputs": [
        {
          "output_type": "execute_result",
          "data": {
            "text/plain": [
              "(981,)"
            ]
          },
          "metadata": {},
          "execution_count": 17
        }
      ]
    },
    {
      "cell_type": "code",
      "metadata": {
        "colab": {
          "base_uri": "https://localhost:8080/"
        },
        "id": "03mx15_P36YR",
        "outputId": "6d161fd3-05cd-4c23-d1a7-496916c0cf4d"
      },
      "source": [
        "# mean of 30 numbers\n",
        "sample_mean_30 = samples.rolling(30).mean().x\n",
        "sample_mean_30"
      ],
      "execution_count": 18,
      "outputs": [
        {
          "output_type": "execute_result",
          "data": {
            "text/plain": [
              "15629             NaN\n",
              "10877             NaN\n",
              "15363             NaN\n",
              "22507             NaN\n",
              "37585             NaN\n",
              "             ...     \n",
              "25949    69310.033333\n",
              "39020    68866.666667\n",
              "45167    69033.333333\n",
              "8160     66500.000000\n",
              "24371    66500.000000\n",
              "Name: x, Length: 1000, dtype: float64"
            ]
          },
          "metadata": {},
          "execution_count": 18
        }
      ]
    },
    {
      "cell_type": "code",
      "metadata": {
        "colab": {
          "base_uri": "https://localhost:8080/"
        },
        "id": "XA0kb0qX4Evp",
        "outputId": "45d1d6f3-c964-42ae-b456-1253183db824"
      },
      "source": [
        "sample_mean_30.shape"
      ],
      "execution_count": 19,
      "outputs": [
        {
          "output_type": "execute_result",
          "data": {
            "text/plain": [
              "(1000,)"
            ]
          },
          "metadata": {},
          "execution_count": 19
        }
      ]
    },
    {
      "cell_type": "code",
      "metadata": {
        "colab": {
          "base_uri": "https://localhost:8080/"
        },
        "id": "H-R2kcj84HZ6",
        "outputId": "a22a64bc-ac95-496c-bc54-1b9e80da10f6"
      },
      "source": [
        "sample_mean_30 = sample_mean_30.dropna()\n",
        "sample_mean_30"
      ],
      "execution_count": 20,
      "outputs": [
        {
          "output_type": "execute_result",
          "data": {
            "text/plain": [
              "22698    69279.666667\n",
              "9489     71528.266667\n",
              "43351    71594.933333\n",
              "7303     72661.600000\n",
              "11500    73128.266667\n",
              "             ...     \n",
              "25949    69310.033333\n",
              "39020    68866.666667\n",
              "45167    69033.333333\n",
              "8160     66500.000000\n",
              "24371    66500.000000\n",
              "Name: x, Length: 971, dtype: float64"
            ]
          },
          "metadata": {},
          "execution_count": 20
        }
      ]
    },
    {
      "cell_type": "code",
      "metadata": {
        "colab": {
          "base_uri": "https://localhost:8080/"
        },
        "id": "tnJj08N_4OIv",
        "outputId": "eb767665-69f5-42b3-8044-9dcb8fa77e9b"
      },
      "source": [
        "sample_mean_30.shape"
      ],
      "execution_count": 21,
      "outputs": [
        {
          "output_type": "execute_result",
          "data": {
            "text/plain": [
              "(971,)"
            ]
          },
          "metadata": {},
          "execution_count": 21
        }
      ]
    },
    {
      "cell_type": "code",
      "metadata": {
        "colab": {
          "base_uri": "https://localhost:8080/",
          "height": 699
        },
        "id": "XYkUVAFA4QNN",
        "outputId": "2b1e2eae-1ef4-4aea-89cc-9391ad650622"
      },
      "source": [
        "fig = plt.figure(figsize=(25,25))\n",
        "#The full distribution of the plot:\n",
        "ax = fig.add_subplot(2,2,1)\n",
        "ax.hist(loans_income.x,bins=25)   # y axis diff is 25 \n",
        "plt.title('Full Plot of the whole DATAFRAME')"
      ],
      "execution_count": 27,
      "outputs": [
        {
          "output_type": "execute_result",
          "data": {
            "text/plain": [
              "Text(0.5, 1.0, 'Full Plot of the whole DATAFRAME')"
            ]
          },
          "metadata": {},
          "execution_count": 27
        },
        {
          "output_type": "display_data",
          "data": {
            "image/png": "[encoded data removed]",
            "text/plain": [
              "<Figure size 1800x1800 with 1 Axes>"
            ]
          },
          "metadata": {
            "needs_background": "light"
          }
        }
      ]
    },
    {
      "cell_type": "code",
      "metadata": {
        "colab": {
          "base_uri": "https://localhost:8080/",
          "height": 328
        },
        "id": "9L6CSKon5_St",
        "outputId": "6a14984d-a353-433c-9186-8229144f64da"
      },
      "source": [
        "fig = plt.figure(figsize=(10,10))\n",
        "#The full distribution of the plot:\n",
        "ax = fig.add_subplot(2,2,1)\n",
        "ax.hist(loans_income.x,bins=25)   # y axis diff is 25 \n",
        "plt.title('Full Plot of the whole DATAFRAME')\n",
        "\n",
        "#distribution of 1000 samples:\n",
        "ax = fig.add_subplot(2,2,2)\n",
        "ax.hist(samples.x,bins=40)\n",
        "plt.title('Full Plot of the 1000 samples')"
      ],
      "execution_count": 28,
      "outputs": [
        {
          "output_type": "execute_result",
          "data": {
            "text/plain": [
              "Text(0.5, 1.0, 'Full Plot of the 1000 samples')"
            ]
          },
          "metadata": {},
          "execution_count": 28
        },
        {
          "output_type": "display_data",
          "data": {
            "image/png": "[encoded data removed]",
            "text/plain": [
              "<Figure size 720x720 with 2 Axes>"
            ]
          },
          "metadata": {
            "needs_background": "light"
          }
        }
      ]
    },
    {
      "cell_type": "code",
      "metadata": {
        "colab": {
          "base_uri": "https://localhost:8080/",
          "height": 607
        },
        "id": "Sjd51ehp6-4I",
        "outputId": "f8484f40-8c98-4e89-f593-21e07485bec9"
      },
      "source": [
        "\n",
        "#Calculating a rolling mean:\n",
        "\n",
        "#Take a 1000 Samples\n",
        "samples = loans_income.sample(n=1000)\n",
        "\n",
        "#mean of 5 numbers\n",
        "sample_mean_5 = samples.rolling(5).mean().x\n",
        "sample_mean_5 = sample_mean_5.dropna()\n",
        "\n",
        "#mean of 20 numbers\n",
        "sample_mean_20 = samples.rolling(20).mean().x\n",
        "sample_mean_20 = sample_mean_20.dropna()\n",
        "\n",
        "# mean of 30 numbers\n",
        "sample_mean_30 = samples.rolling(30).mean().x\n",
        "sample_mean_30 = sample_mean_30.dropna()\n",
        "\n",
        "fig = plt.figure(figsize=(10,10))\n",
        "#The full distribution of the plot:\n",
        "ax = fig.add_subplot(2,2,1)\n",
        "ax.hist(loans_income.x,bins=25)\n",
        "plt.title('Full Plot of the whole DATAFRAME')\n",
        "\n",
        "#distribution of 1000 samples:\n",
        "\n",
        "ax = fig.add_subplot(2,2,2)\n",
        "ax.hist(samples.x,bins=40)\n",
        "plt.title('Full Plot of the 1000 samples')\n",
        "\n",
        "#distribution of means of 5 numbers from 1000 samples:\n",
        "ax = fig.add_subplot(2,2,3)\n",
        "ax.hist(sample_mean_5,bins=40)\n",
        "plt.title('Plot of Rolling Mean 5 of the 1000 samples')\n",
        "\n",
        "#distribution of means of 20 numbers from 1000 samples:\n",
        "ax = fig.add_subplot(2,2,4)\n",
        "ax.hist(sample_mean_20,bins=40,label='Mean of 20')\n",
        "ax.hist(sample_mean_30,bins=40,label='Mean of 30')\n",
        "plt.title('Plot of Rolling Mean 20 and 30 of the 1000 samples')\n",
        "ax.legend()\n",
        "plt.show()\n",
        "\n",
        "plt.show()"
      ],
      "execution_count": 29,
      "outputs": [
        {
          "output_type": "display_data",
          "data": {
            "image/png": "[encoded data removed]",
            "text/plain": [
              "<Figure size 720x720 with 4 Axes>"
            ]
          },
          "metadata": {
            "needs_background": "light"
          }
        }
      ]
    },
    {
      "cell_type": "code",
      "metadata": {
        "colab": {
          "base_uri": "https://localhost:8080/"
        },
        "id": "_qGvWyvc79Lu",
        "outputId": "1cbf9686-c2a2-4068-e6e1-2f513cb3de7a"
      },
      "source": [
        "#Calculating a rolling mean:\n",
        "print('Total Population STD : ',loans_income.x.std())\n",
        "print('Total Population Mean : ',loans_income.x.mean())\n",
        "print('Total Population Median : ',np.median(loans_income.x))\n",
        "print('Total Population Standard Error:',stats.sem(loans_income.x, ddof=1))"
      ],
      "execution_count": 30,
      "outputs": [
        {
          "output_type": "stream",
          "name": "stdout",
          "text": [
            "Total Population STD :  32872.03536985002\n",
            "Total Population Mean :  68760.51844\n",
            "Total Population Median :  62000.0\n",
            "Total Population Standard Error: 147.00821129152527\n"
          ]
        }
      ]
    },
    {
      "cell_type": "code",
      "metadata": {
        "colab": {
          "base_uri": "https://localhost:8080/"
        },
        "id": "ySZsgimA-Nhf",
        "outputId": "110ad980-ebc7-4623-d952-82b8cff44caa"
      },
      "source": [
        "bootstrap_1000 = np.random.choice(loans_income.x,size=1000,replace=True)\n",
        "bootstrap_10000 = np.random.choice(loans_income.x,size=10000,replace=True)\n",
        "bootstrap_20000 = np.random.choice(loans_income.x,size=20000,replace=True)\n",
        "arr_bootstraps = [bootstrap_1000,bootstrap_10000,bootstrap_20000]\n",
        "len(arr_bootstraps)"
      ],
      "execution_count": 31,
      "outputs": [
        {
          "output_type": "execute_result",
          "data": {
            "text/plain": [
              "3"
            ]
          },
          "metadata": {},
          "execution_count": 31
        }
      ]
    },
    {
      "cell_type": "code",
      "metadata": {
        "colab": {
          "base_uri": "https://localhost:8080/"
        },
        "id": "pifZfCWJ_oE-",
        "outputId": "c351451a-9549-4363-d296-ea1148d02e85"
      },
      "source": [
        "#Calculating a rolling mean:\n",
        "for i in range(len(arr_bootstraps)):\n",
        "    print('Bootstrap Stats for {} examples \\n'.format(len(arr_bootstraps[i])))\n",
        "    print('------------------------------------------------------------------------------\\n')\n",
        "    print('Bootstrap STD : ',np.std(arr_bootstraps[i],ddof=1))\n",
        "    print('Bootstrap Mean : ',np.mean(arr_bootstraps[i]))\n",
        "    print('Bootstrap Median: ',np.median(arr_bootstraps[i]))\n",
        "    print('Boostrap Bias, ',loans_income.x.mean() - np.mean(arr_bootstraps[i],axis=0))\n",
        "    print('Standard Error:',stats.sem(arr_bootstraps[i], ddof=1))\n",
        "    print('\\n------------------------------------------------------------------------------\\n')\n",
        "    #bias = lesser number for all three i.e 1000 10000 20000\n",
        "    #standard error= greater number for all three i.e 1000 10000 20000"
      ],
      "execution_count": 32,
      "outputs": [
        {
          "output_type": "stream",
          "name": "stdout",
          "text": [
            "Bootstrap Stats for 1000 examples \n",
            "\n",
            "------------------------------------------------------------------------------\n",
            "\n",
            "Bootstrap STD :  32485.073181425363\n",
            "Bootstrap Mean :  68576.429\n",
            "Bootstrap Median:  62000.0\n",
            "Boostrap Bias,  184.0894399999961\n",
            "Standard Error: 1027.2682121055636\n",
            "\n",
            "------------------------------------------------------------------------------\n",
            "\n",
            "Bootstrap Stats for 10000 examples \n",
            "\n",
            "------------------------------------------------------------------------------\n",
            "\n",
            "Bootstrap STD :  33152.05996840676\n",
            "Bootstrap Mean :  69027.6777\n",
            "Bootstrap Median:  62000.0\n",
            "Boostrap Bias,  -267.15926000000036\n",
            "Standard Error: 331.5205996840676\n",
            "\n",
            "------------------------------------------------------------------------------\n",
            "\n",
            "Bootstrap Stats for 20000 examples \n",
            "\n",
            "------------------------------------------------------------------------------\n",
            "\n",
            "Bootstrap STD :  32968.07511344748\n",
            "Bootstrap Mean :  68522.16115\n",
            "Bootstrap Median:  61000.0\n",
            "Boostrap Bias,  238.35728999999992\n",
            "Standard Error: 233.1194947538617\n",
            "\n",
            "------------------------------------------------------------------------------\n",
            "\n"
          ]
        }
      ]
    },
    {
      "cell_type": "code",
      "metadata": {
        "colab": {
          "base_uri": "https://localhost:8080/",
          "height": 295
        },
        "id": "ic_eXrnvAuJ8",
        "outputId": "f6cb657c-5f37-4acd-897f-74faf474fd21"
      },
      "source": [
        "stats.probplot(loans_income.x, dist=\"norm\", plot=pylab)   #dist = distribution\n",
        "pylab.show()"
      ],
      "execution_count": 35,
      "outputs": [
        {
          "output_type": "display_data",
          "data": {
            "image/png": "[encoded data removed]",
            "text/plain": [
              "<Figure size 432x288 with 1 Axes>"
            ]
          },
          "metadata": {
            "needs_background": "light"
          }
        }
      ]
    },
    {
      "cell_type": "code",
      "metadata": {
        "colab": {
          "base_uri": "https://localhost:8080/",
          "height": 295
        },
        "id": "8MnEsC3_C2fg",
        "outputId": "0f85ad0f-0480-4833-9321-0a4753b4ce9f"
      },
      "source": [
        "measurements = np.random.normal(loc = 20, scale = 5, size=100)   \n",
        "stats.probplot(measurements, dist=\"norm\", plot=pylab)\n",
        "pylab.show()"
      ],
      "execution_count": 36,
      "outputs": [
        {
          "output_type": "display_data",
          "data": {
            "image/png": "[encoded data removed]",
            "text/plain": [
              "<Figure size 432x288 with 1 Axes>"
            ]
          },
          "metadata": {
            "needs_background": "light"
          }
        }
      ]
    },
    {
      "cell_type": "code",
      "metadata": {
        "id": "ICjQ8aBpDP8r"
      },
      "source": [
        "nflx = sp500_px.loc[:,'NFLX']"
      ],
      "execution_count": 37,
      "outputs": []
    },
    {
      "cell_type": "code",
      "metadata": {
        "colab": {
          "base_uri": "https://localhost:8080/",
          "height": 295
        },
        "id": "2jg7YMyREQOt",
        "outputId": "72551de3-fe77-4e20-b849-fff3e21ea069"
      },
      "source": [
        "stats.probplot(nflx, dist=\"norm\", plot=pylab)\n",
        "pylab.show()"
      ],
      "execution_count": 38,
      "outputs": [
        {
          "output_type": "display_data",
          "data": {
            "image/png": "[encoded data removed]",
            "text/plain": [
              "<Figure size 432x288 with 1 Axes>"
            ]
          },
          "metadata": {
            "needs_background": "light"
          }
        }
      ]
    },
    {
      "cell_type": "code",
      "metadata": {
        "colab": {
          "base_uri": "https://localhost:8080/",
          "height": 384
        },
        "id": "q8opuW_3EVDO",
        "outputId": "1aaa67e3-0423-48ee-9173-b7bd523245b5"
      },
      "source": [
        "treated_nflx = np.diff(np.log(nflx))\n",
        "stats.probplot(treated_nflx, dist=\"norm\", plot=pylab,fit=True)\n",
        "pylab.show()"
      ],
      "execution_count": 41,
      "outputs": [
        {
          "output_type": "stream",
          "name": "stderr",
          "text": [
            "/usr/local/lib/python3.7/dist-packages/pandas/core/series.py:726: RuntimeWarning: divide by zero encountered in log\n",
            "  result = getattr(ufunc, method)(*inputs, **kwargs)\n",
            "/usr/local/lib/python3.7/dist-packages/numpy/lib/function_base.py:1280: RuntimeWarning: invalid value encountered in subtract\n",
            "  a = op(a[slice1], a[slice2])\n"
          ]
        },
        {
          "output_type": "display_data",
          "data": {
            "image/png": "[encoded data removed]",
            "text/plain": [
              "<Figure size 432x288 with 1 Axes>"
            ]
          },
          "metadata": {
            "needs_background": "light"
          }
        }
      ]
    },
    {
      "cell_type": "code",
      "metadata": {
        "id": "C-tfRxwaFO21"
      },
      "source": [
        ""
      ],
      "execution_count": null,
      "outputs": []
    }
  ]
}